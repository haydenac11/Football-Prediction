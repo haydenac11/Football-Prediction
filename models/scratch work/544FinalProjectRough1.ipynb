{
  "nbformat": 4,
  "nbformat_minor": 0,
  "metadata": {
    "colab": {
      "provenance": []
    },
    "kernelspec": {
      "name": "python3",
      "display_name": "Python 3"
    },
    "language_info": {
      "name": "python"
    }
  },
  "cells": [
    {
      "cell_type": "code",
      "execution_count": null,
      "metadata": {
        "id": "Ua0pqXZ0ZmBN"
      },
      "outputs": [],
      "source": [
        "import numpy as np\n",
        "import pandas as pd\n",
        "import matplotlib.pyplot as plt\n",
        "import seaborn as sns"
      ]
    },
    {
      "cell_type": "code",
      "source": [
        "# load data\n",
        "seasons_15To24 = pd.read_csv(\"Premier League 2015-2024.csv\")\n",
        "season_24To25 = pd.read_csv(\"24-25 Season.csv\")\n",
        "\n",
        "# Drop 'Referee' and 'Date' from both datasets\n",
        "seasons_15To24 = seasons_15To24.drop(columns=['Referee', 'Date', 'HomeTeam', 'AwayTeam'])\n",
        "season_24To25 = season_24To25.drop(columns=['Referee', 'Date', 'HomeTeam', 'AwayTeam'])\n",
        "\n",
        "# I want to try removing some column later on."
      ],
      "metadata": {
        "id": "yrsyBj2Vag5a"
      },
      "execution_count": null,
      "outputs": []
    },
    {
      "cell_type": "code",
      "source": [
        "numeric_cols = ['HTHG', 'HTAG', 'HS', 'AS', 'HST', 'AST', 'HF', 'AF', 'HC', 'AC', 'HY', 'AY', 'HR', 'AR']\n",
        "categorical_cols = ['HomeTeam', 'AwayTeam', 'Referee']"
      ],
      "metadata": {
        "id": "NW2CHCDMiVCP"
      },
      "execution_count": null,
      "outputs": []
    },
    {
      "cell_type": "code",
      "source": [
        "# process the data\n",
        "\n",
        "# first label Encode FTR and HTR, excpet im going to just map\n",
        "result_mapping = {'H': 0, 'A': 1, 'D': 2}\n",
        "\n",
        "seasons_15To24['FTR'] = seasons_15To24['FTR'].replace(result_mapping).astype(int)\n",
        "seasons_15To24['HTR'] = seasons_15To24['HTR'].replace(result_mapping).astype(int)\n",
        "season_24To25['FTR'] = season_24To25['FTR'].replace(result_mapping).astype(int)\n",
        "season_24To25['HTR'] = season_24To25['HTR'].replace(result_mapping).astype(int)"
      ],
      "metadata": {
        "id": "VROwmx0zbkCr"
      },
      "execution_count": null,
      "outputs": []
    },
    {
      "cell_type": "code",
      "source": [],
      "metadata": {
        "id": "SrD1IA2jh_SC"
      },
      "execution_count": null,
      "outputs": []
    },
    {
      "cell_type": "code",
      "source": [
        "seasons_15To24.to_csv(\"Output.csv\", index=False)"
      ],
      "metadata": {
        "id": "fbfplfNkgiPF"
      },
      "execution_count": null,
      "outputs": []
    },
    {
      "cell_type": "code",
      "source": [
        "# output columns\n",
        "X_seasons_15To24 = seasons_15To24.drop(columns=['FTR'])\n",
        "y_seasons_15To24 = seasons_15To24['FTR']\n",
        "X_season_24To25 = season_24To25.drop(columns=['FTR'])\n",
        "y_season_24To25 = season_24To25['FTR']"
      ],
      "metadata": {
        "id": "Uq6CnuS-ihpk"
      },
      "execution_count": null,
      "outputs": []
    },
    {
      "cell_type": "code",
      "source": [
        "from sklearn.preprocessing import MinMaxScaler\n",
        "scaler = MinMaxScaler()\n",
        "X_seasons_15To24_scaled = scaler.fit_transform(X_seasons_15To24)\n",
        "X_season_24To25_scaled = scaler.transform(X_season_24To25)"
      ],
      "metadata": {
        "id": "RwxpQp2Vjwjf"
      },
      "execution_count": null,
      "outputs": []
    },
    {
      "cell_type": "code",
      "source": [
        "from sklearn.ensemble import RandomForestClassifier\n",
        "from sklearn.metrics import accuracy_score, f1_score\n",
        "\n",
        "rf_model = RandomForestClassifier()\n",
        "rf_model.fit(X_seasons_15To24_scaled, y_seasons_15To24)\n",
        "\n",
        "y_train_pred = rf_model.predict(X_seasons_15To24_scaled)\n",
        "y_test_pred = rf_model.predict(X_season_24To25_scaled)\n",
        "\n",
        "f1_train_rf = f1_score(y_seasons_15To24, y_train_pred, average='macro')\n",
        "accuracy_train_rf = accuracy_score(y_seasons_15To24, y_train_pred)\n",
        "\n",
        "f1_test_rf = f1_score(y_season_24To25, y_test_pred, average='macro')\n",
        "accuracy_test_rf = accuracy_score(y_season_24To25, y_test_pred)\n",
        "\n",
        "print(\"RF F1 Score (Training):\", f1_train_rf * 100)\n",
        "print(\"RF Accuracy (Training):\", accuracy_train_rf * 100)\n",
        "print(\"RF F1 Score (Testing):\", f1_test_rf * 100)\n",
        "print(\"RF Accuracy (Testing):\", accuracy_test_rf * 100)"
      ],
      "metadata": {
        "colab": {
          "base_uri": "https://localhost:8080/"
        },
        "id": "afkj-3ItkA3o",
        "outputId": "04a2551c-79fe-4d9a-eec0-04d5670f95cf"
      },
      "execution_count": null,
      "outputs": [
        {
          "output_type": "stream",
          "name": "stdout",
          "text": [
            "RF F1 Score (Training): 100.0\n",
            "RF Accuracy (Training): 100.0\n",
            "RF F1 Score (Testing): 51.81864919899287\n",
            "RF Accuracy (Testing): 59.040590405904055\n"
          ]
        }
      ]
    },
    {
      "cell_type": "markdown",
      "source": [
        "Extreme overfitting"
      ],
      "metadata": {
        "id": "44iwuTOolIZH"
      }
    },
    {
      "cell_type": "code",
      "source": [
        "rf_model = RandomForestClassifier(max_depth=4, criterion='entropy', n_estimators=100)\n",
        "rf_model.fit(X_seasons_15To24_scaled, y_seasons_15To24)\n",
        "\n",
        "y_train_pred = rf_model.predict(X_seasons_15To24_scaled)\n",
        "y_test_pred = rf_model.predict(X_season_24To25_scaled)\n",
        "\n",
        "f1_train_rf = f1_score(y_seasons_15To24, y_train_pred, average='macro')\n",
        "accuracy_train_rf = accuracy_score(y_seasons_15To24, y_train_pred)\n",
        "\n",
        "f1_test_rf = f1_score(y_season_24To25, y_test_pred, average='macro')\n",
        "accuracy_test_rf = accuracy_score(y_season_24To25, y_test_pred)\n",
        "\n",
        "print(\"RF F1 Score (Training):\", f1_train_rf * 100)\n",
        "print(\"RF Accuracy (Training):\", accuracy_train_rf * 100)\n",
        "print(\"RF F1 Score (Testing):\", f1_test_rf * 100)\n",
        "print(\"RF Accuracy (Testing):\", accuracy_test_rf * 100)"
      ],
      "metadata": {
        "colab": {
          "base_uri": "https://localhost:8080/"
        },
        "id": "0YJyIyW4kVJ7",
        "outputId": "39a6cbe7-8e84-44cf-9932-bb1aeebc37bd"
      },
      "execution_count": null,
      "outputs": [
        {
          "output_type": "stream",
          "name": "stdout",
          "text": [
            "RF F1 Score (Training): 51.90278875315132\n",
            "RF Accuracy (Training): 65.78947368421053\n",
            "RF F1 Score (Testing): 49.17002747694121\n",
            "RF Accuracy (Testing): 62.36162361623616\n"
          ]
        }
      ]
    },
    {
      "cell_type": "code",
      "source": [
        "from sklearn.ensemble import AdaBoostClassifier\n",
        "from sklearn.tree import DecisionTreeClassifier\n",
        "\n",
        "ada_boost_model = AdaBoostClassifier(DecisionTreeClassifier(max_depth=1, criterion='entropy'), n_estimators=100)\n",
        "ada_boost_model.fit(X_seasons_15To24_scaled, y_seasons_15To24)\n",
        "\n",
        "y_train_pred = ada_boost_model.predict(X_seasons_15To24_scaled)\n",
        "y_test_pred = ada_boost_model.predict(X_season_24To25_scaled)\n",
        "\n",
        "f1_train_ab = f1_score(y_seasons_15To24, y_train_pred, average='macro')\n",
        "accuracy_train_ab = accuracy_score(y_seasons_15To24, y_train_pred)\n",
        "f1_test_ab = f1_score(y_season_24To25, y_test_pred, average='macro')\n",
        "accuracy_test_ab = accuracy_score(y_season_24To25, y_test_pred)\n",
        "\n",
        "print(\"AdaBoost F1 Score (Training):\", f1_train_ab * 100)\n",
        "print(\"AdaBoost Accuracy (Training):\", accuracy_train_ab * 100)\n",
        "print(\"AdaBoost F1 Score (Testing):\", f1_test_ab * 100)\n",
        "print(\"AdaBoost Accuracy (Testing):\", accuracy_test_ab * 100)\n"
      ],
      "metadata": {
        "colab": {
          "base_uri": "https://localhost:8080/"
        },
        "id": "6btAjKbUmFk9",
        "outputId": "66d04471-ac04-4614-e8a4-74fe848cdd19"
      },
      "execution_count": null,
      "outputs": [
        {
          "output_type": "stream",
          "name": "stdout",
          "text": [
            "AdaBoost F1 Score (Training): 57.789805831579564\n",
            "AdaBoost Accuracy (Training): 65.05847953216374\n",
            "AdaBoost F1 Score (Testing): 58.834322942437744\n",
            "AdaBoost Accuracy (Testing): 65.68265682656826\n"
          ]
        }
      ]
    },
    {
      "cell_type": "code",
      "source": [],
      "metadata": {
        "id": "gdx_kAoQmFWR"
      },
      "execution_count": null,
      "outputs": []
    }
  ]
}