{
  "cells": [
    {
      "cell_type": "code",
      "execution_count": 3,
      "metadata": {
        "id": "a-kq-GtIBpbl"
      },
      "outputs": [],
      "source": [
        "import pandas as pd"
      ]
    },
    {
      "cell_type": "code",
      "source": [
        "from google.colab import files\n",
        "uploaded = files.upload()"
      ],
      "metadata": {
        "colab": {
          "base_uri": "https://localhost:8080/",
          "height": 177
        },
        "id": "ZycQlvFCB7hg",
        "outputId": "e24afdbb-7810-46bf-93e6-60a4fdab74a4"
      },
      "execution_count": 5,
      "outputs": [
        {
          "output_type": "display_data",
          "data": {
            "text/plain": [
              "<IPython.core.display.HTML object>"
            ],
            "text/html": [
              "\n",
              "     <input type=\"file\" id=\"files-3a1bd3e6-ba13-469e-82e2-ec6b87063104\" name=\"files[]\" multiple disabled\n",
              "        style=\"border:none\" />\n",
              "     <output id=\"result-3a1bd3e6-ba13-469e-82e2-ec6b87063104\">\n",
              "      Upload widget is only available when the cell has been executed in the\n",
              "      current browser session. Please rerun this cell to enable.\n",
              "      </output>\n",
              "      <script>// Copyright 2017 Google LLC\n",
              "//\n",
              "// Licensed under the Apache License, Version 2.0 (the \"License\");\n",
              "// you may not use this file except in compliance with the License.\n",
              "// You may obtain a copy of the License at\n",
              "//\n",
              "//      http://www.apache.org/licenses/LICENSE-2.0\n",
              "//\n",
              "// Unless required by applicable law or agreed to in writing, software\n",
              "// distributed under the License is distributed on an \"AS IS\" BASIS,\n",
              "// WITHOUT WARRANTIES OR CONDITIONS OF ANY KIND, either express or implied.\n",
              "// See the License for the specific language governing permissions and\n",
              "// limitations under the License.\n",
              "\n",
              "/**\n",
              " * @fileoverview Helpers for google.colab Python module.\n",
              " */\n",
              "(function(scope) {\n",
              "function span(text, styleAttributes = {}) {\n",
              "  const element = document.createElement('span');\n",
              "  element.textContent = text;\n",
              "  for (const key of Object.keys(styleAttributes)) {\n",
              "    element.style[key] = styleAttributes[key];\n",
              "  }\n",
              "  return element;\n",
              "}\n",
              "\n",
              "// Max number of bytes which will be uploaded at a time.\n",
              "const MAX_PAYLOAD_SIZE = 100 * 1024;\n",
              "\n",
              "function _uploadFiles(inputId, outputId) {\n",
              "  const steps = uploadFilesStep(inputId, outputId);\n",
              "  const outputElement = document.getElementById(outputId);\n",
              "  // Cache steps on the outputElement to make it available for the next call\n",
              "  // to uploadFilesContinue from Python.\n",
              "  outputElement.steps = steps;\n",
              "\n",
              "  return _uploadFilesContinue(outputId);\n",
              "}\n",
              "\n",
              "// This is roughly an async generator (not supported in the browser yet),\n",
              "// where there are multiple asynchronous steps and the Python side is going\n",
              "// to poll for completion of each step.\n",
              "// This uses a Promise to block the python side on completion of each step,\n",
              "// then passes the result of the previous step as the input to the next step.\n",
              "function _uploadFilesContinue(outputId) {\n",
              "  const outputElement = document.getElementById(outputId);\n",
              "  const steps = outputElement.steps;\n",
              "\n",
              "  const next = steps.next(outputElement.lastPromiseValue);\n",
              "  return Promise.resolve(next.value.promise).then((value) => {\n",
              "    // Cache the last promise value to make it available to the next\n",
              "    // step of the generator.\n",
              "    outputElement.lastPromiseValue = value;\n",
              "    return next.value.response;\n",
              "  });\n",
              "}\n",
              "\n",
              "/**\n",
              " * Generator function which is called between each async step of the upload\n",
              " * process.\n",
              " * @param {string} inputId Element ID of the input file picker element.\n",
              " * @param {string} outputId Element ID of the output display.\n",
              " * @return {!Iterable<!Object>} Iterable of next steps.\n",
              " */\n",
              "function* uploadFilesStep(inputId, outputId) {\n",
              "  const inputElement = document.getElementById(inputId);\n",
              "  inputElement.disabled = false;\n",
              "\n",
              "  const outputElement = document.getElementById(outputId);\n",
              "  outputElement.innerHTML = '';\n",
              "\n",
              "  const pickedPromise = new Promise((resolve) => {\n",
              "    inputElement.addEventListener('change', (e) => {\n",
              "      resolve(e.target.files);\n",
              "    });\n",
              "  });\n",
              "\n",
              "  const cancel = document.createElement('button');\n",
              "  inputElement.parentElement.appendChild(cancel);\n",
              "  cancel.textContent = 'Cancel upload';\n",
              "  const cancelPromise = new Promise((resolve) => {\n",
              "    cancel.onclick = () => {\n",
              "      resolve(null);\n",
              "    };\n",
              "  });\n",
              "\n",
              "  // Wait for the user to pick the files.\n",
              "  const files = yield {\n",
              "    promise: Promise.race([pickedPromise, cancelPromise]),\n",
              "    response: {\n",
              "      action: 'starting',\n",
              "    }\n",
              "  };\n",
              "\n",
              "  cancel.remove();\n",
              "\n",
              "  // Disable the input element since further picks are not allowed.\n",
              "  inputElement.disabled = true;\n",
              "\n",
              "  if (!files) {\n",
              "    return {\n",
              "      response: {\n",
              "        action: 'complete',\n",
              "      }\n",
              "    };\n",
              "  }\n",
              "\n",
              "  for (const file of files) {\n",
              "    const li = document.createElement('li');\n",
              "    li.append(span(file.name, {fontWeight: 'bold'}));\n",
              "    li.append(span(\n",
              "        `(${file.type || 'n/a'}) - ${file.size} bytes, ` +\n",
              "        `last modified: ${\n",
              "            file.lastModifiedDate ? file.lastModifiedDate.toLocaleDateString() :\n",
              "                                    'n/a'} - `));\n",
              "    const percent = span('0% done');\n",
              "    li.appendChild(percent);\n",
              "\n",
              "    outputElement.appendChild(li);\n",
              "\n",
              "    const fileDataPromise = new Promise((resolve) => {\n",
              "      const reader = new FileReader();\n",
              "      reader.onload = (e) => {\n",
              "        resolve(e.target.result);\n",
              "      };\n",
              "      reader.readAsArrayBuffer(file);\n",
              "    });\n",
              "    // Wait for the data to be ready.\n",
              "    let fileData = yield {\n",
              "      promise: fileDataPromise,\n",
              "      response: {\n",
              "        action: 'continue',\n",
              "      }\n",
              "    };\n",
              "\n",
              "    // Use a chunked sending to avoid message size limits. See b/62115660.\n",
              "    let position = 0;\n",
              "    do {\n",
              "      const length = Math.min(fileData.byteLength - position, MAX_PAYLOAD_SIZE);\n",
              "      const chunk = new Uint8Array(fileData, position, length);\n",
              "      position += length;\n",
              "\n",
              "      const base64 = btoa(String.fromCharCode.apply(null, chunk));\n",
              "      yield {\n",
              "        response: {\n",
              "          action: 'append',\n",
              "          file: file.name,\n",
              "          data: base64,\n",
              "        },\n",
              "      };\n",
              "\n",
              "      let percentDone = fileData.byteLength === 0 ?\n",
              "          100 :\n",
              "          Math.round((position / fileData.byteLength) * 100);\n",
              "      percent.textContent = `${percentDone}% done`;\n",
              "\n",
              "    } while (position < fileData.byteLength);\n",
              "  }\n",
              "\n",
              "  // All done.\n",
              "  yield {\n",
              "    response: {\n",
              "      action: 'complete',\n",
              "    }\n",
              "  };\n",
              "}\n",
              "\n",
              "scope.google = scope.google || {};\n",
              "scope.google.colab = scope.google.colab || {};\n",
              "scope.google.colab._files = {\n",
              "  _uploadFiles,\n",
              "  _uploadFilesContinue,\n",
              "};\n",
              "})(self);\n",
              "</script> "
            ]
          },
          "metadata": {}
        },
        {
          "output_type": "stream",
          "name": "stdout",
          "text": [
            "Saving Binary_Testing_HTR.csv to Binary_Testing_HTR.csv\n",
            "Saving Binary_Testing_No_HTR.csv to Binary_Testing_No_HTR.csv\n",
            "Saving Binary_Training_HTR.csv to Binary_Training_HTR.csv\n",
            "Saving Binary_Training_No_HTR.csv to Binary_Training_No_HTR.csv\n"
          ]
        }
      ]
    },
    {
      "cell_type": "code",
      "execution_count": 6,
      "metadata": {
        "colab": {
          "base_uri": "https://localhost:8080/",
          "height": 236
        },
        "id": "kyxD87o0Bpbo",
        "outputId": "437a2d0a-507f-4fd9-c97e-3e2b4bf98261"
      },
      "outputs": [
        {
          "output_type": "execute_result",
          "data": {
            "text/plain": [
              "  FTR  HomeMomentum  AwayMomentum    HomeWP    HomeLP    HomeDP    AwayWP  \\\n",
              "0   A      0.000000      0.000000  0.000000  0.000000  0.000000  0.263158   \n",
              "1   A      0.333333      0.000000  0.684211  0.078947  0.236842  0.421053   \n",
              "2   A      0.000000      0.000000  0.315789  0.394737  0.289474  0.000000   \n",
              "3   H      0.500000      0.166667  0.289474  0.500000  0.210526  0.184211   \n",
              "4   H     -0.333333      0.166667  0.526316  0.210526  0.263158  0.500000   \n",
              "\n",
              "     AwayLP    AwayDP  HomeHVA  ...  AHST  AAST   AHF   AAF  AHC  AAC  AHY  \\\n",
              "0  0.526316  0.210526        0  ...   0.0   0.0   0.0   0.0  0.0  0.0  0.0   \n",
              "1  0.368421  0.210526        1  ...   3.5   3.0  11.5  11.5  5.0  3.5  2.0   \n",
              "2  0.000000  0.000000        0  ...   5.0   3.0  12.0  11.0  6.0  5.5  1.0   \n",
              "3  0.368421  0.447368        0  ...   3.5   3.0  11.0  11.5  4.5  6.5  1.0   \n",
              "4  0.315789  0.184211        1  ...   4.0   3.5  11.5  11.5  6.5  6.0  1.0   \n",
              "\n",
              "   AAY  AHR  AAR  \n",
              "0  0.0  0.0  0.0  \n",
              "1  2.5  0.0  0.0  \n",
              "2  2.0  0.0  0.0  \n",
              "3  1.0  0.0  0.0  \n",
              "4  0.0  0.0  0.0  \n",
              "\n",
              "[5 rows x 35 columns]"
            ],
            "text/html": [
              "\n",
              "  <div id=\"df-d610eda2-e1da-4868-b9df-cbb9c4c09d88\" class=\"colab-df-container\">\n",
              "    <div>\n",
              "<style scoped>\n",
              "    .dataframe tbody tr th:only-of-type {\n",
              "        vertical-align: middle;\n",
              "    }\n",
              "\n",
              "    .dataframe tbody tr th {\n",
              "        vertical-align: top;\n",
              "    }\n",
              "\n",
              "    .dataframe thead th {\n",
              "        text-align: right;\n",
              "    }\n",
              "</style>\n",
              "<table border=\"1\" class=\"dataframe\">\n",
              "  <thead>\n",
              "    <tr style=\"text-align: right;\">\n",
              "      <th></th>\n",
              "      <th>FTR</th>\n",
              "      <th>HomeMomentum</th>\n",
              "      <th>AwayMomentum</th>\n",
              "      <th>HomeWP</th>\n",
              "      <th>HomeLP</th>\n",
              "      <th>HomeDP</th>\n",
              "      <th>AwayWP</th>\n",
              "      <th>AwayLP</th>\n",
              "      <th>AwayDP</th>\n",
              "      <th>HomeHVA</th>\n",
              "      <th>...</th>\n",
              "      <th>AHST</th>\n",
              "      <th>AAST</th>\n",
              "      <th>AHF</th>\n",
              "      <th>AAF</th>\n",
              "      <th>AHC</th>\n",
              "      <th>AAC</th>\n",
              "      <th>AHY</th>\n",
              "      <th>AAY</th>\n",
              "      <th>AHR</th>\n",
              "      <th>AAR</th>\n",
              "    </tr>\n",
              "  </thead>\n",
              "  <tbody>\n",
              "    <tr>\n",
              "      <th>0</th>\n",
              "      <td>A</td>\n",
              "      <td>0.000000</td>\n",
              "      <td>0.000000</td>\n",
              "      <td>0.000000</td>\n",
              "      <td>0.000000</td>\n",
              "      <td>0.000000</td>\n",
              "      <td>0.263158</td>\n",
              "      <td>0.526316</td>\n",
              "      <td>0.210526</td>\n",
              "      <td>0</td>\n",
              "      <td>...</td>\n",
              "      <td>0.0</td>\n",
              "      <td>0.0</td>\n",
              "      <td>0.0</td>\n",
              "      <td>0.0</td>\n",
              "      <td>0.0</td>\n",
              "      <td>0.0</td>\n",
              "      <td>0.0</td>\n",
              "      <td>0.0</td>\n",
              "      <td>0.0</td>\n",
              "      <td>0.0</td>\n",
              "    </tr>\n",
              "    <tr>\n",
              "      <th>1</th>\n",
              "      <td>A</td>\n",
              "      <td>0.333333</td>\n",
              "      <td>0.000000</td>\n",
              "      <td>0.684211</td>\n",
              "      <td>0.078947</td>\n",
              "      <td>0.236842</td>\n",
              "      <td>0.421053</td>\n",
              "      <td>0.368421</td>\n",
              "      <td>0.210526</td>\n",
              "      <td>1</td>\n",
              "      <td>...</td>\n",
              "      <td>3.5</td>\n",
              "      <td>3.0</td>\n",
              "      <td>11.5</td>\n",
              "      <td>11.5</td>\n",
              "      <td>5.0</td>\n",
              "      <td>3.5</td>\n",
              "      <td>2.0</td>\n",
              "      <td>2.5</td>\n",
              "      <td>0.0</td>\n",
              "      <td>0.0</td>\n",
              "    </tr>\n",
              "    <tr>\n",
              "      <th>2</th>\n",
              "      <td>A</td>\n",
              "      <td>0.000000</td>\n",
              "      <td>0.000000</td>\n",
              "      <td>0.315789</td>\n",
              "      <td>0.394737</td>\n",
              "      <td>0.289474</td>\n",
              "      <td>0.000000</td>\n",
              "      <td>0.000000</td>\n",
              "      <td>0.000000</td>\n",
              "      <td>0</td>\n",
              "      <td>...</td>\n",
              "      <td>5.0</td>\n",
              "      <td>3.0</td>\n",
              "      <td>12.0</td>\n",
              "      <td>11.0</td>\n",
              "      <td>6.0</td>\n",
              "      <td>5.5</td>\n",
              "      <td>1.0</td>\n",
              "      <td>2.0</td>\n",
              "      <td>0.0</td>\n",
              "      <td>0.0</td>\n",
              "    </tr>\n",
              "    <tr>\n",
              "      <th>3</th>\n",
              "      <td>H</td>\n",
              "      <td>0.500000</td>\n",
              "      <td>0.166667</td>\n",
              "      <td>0.289474</td>\n",
              "      <td>0.500000</td>\n",
              "      <td>0.210526</td>\n",
              "      <td>0.184211</td>\n",
              "      <td>0.368421</td>\n",
              "      <td>0.447368</td>\n",
              "      <td>0</td>\n",
              "      <td>...</td>\n",
              "      <td>3.5</td>\n",
              "      <td>3.0</td>\n",
              "      <td>11.0</td>\n",
              "      <td>11.5</td>\n",
              "      <td>4.5</td>\n",
              "      <td>6.5</td>\n",
              "      <td>1.0</td>\n",
              "      <td>1.0</td>\n",
              "      <td>0.0</td>\n",
              "      <td>0.0</td>\n",
              "    </tr>\n",
              "    <tr>\n",
              "      <th>4</th>\n",
              "      <td>H</td>\n",
              "      <td>-0.333333</td>\n",
              "      <td>0.166667</td>\n",
              "      <td>0.526316</td>\n",
              "      <td>0.210526</td>\n",
              "      <td>0.263158</td>\n",
              "      <td>0.500000</td>\n",
              "      <td>0.315789</td>\n",
              "      <td>0.184211</td>\n",
              "      <td>1</td>\n",
              "      <td>...</td>\n",
              "      <td>4.0</td>\n",
              "      <td>3.5</td>\n",
              "      <td>11.5</td>\n",
              "      <td>11.5</td>\n",
              "      <td>6.5</td>\n",
              "      <td>6.0</td>\n",
              "      <td>1.0</td>\n",
              "      <td>0.0</td>\n",
              "      <td>0.0</td>\n",
              "      <td>0.0</td>\n",
              "    </tr>\n",
              "  </tbody>\n",
              "</table>\n",
              "<p>5 rows × 35 columns</p>\n",
              "</div>\n",
              "    <div class=\"colab-df-buttons\">\n",
              "\n",
              "  <div class=\"colab-df-container\">\n",
              "    <button class=\"colab-df-convert\" onclick=\"convertToInteractive('df-d610eda2-e1da-4868-b9df-cbb9c4c09d88')\"\n",
              "            title=\"Convert this dataframe to an interactive table.\"\n",
              "            style=\"display:none;\">\n",
              "\n",
              "  <svg xmlns=\"http://www.w3.org/2000/svg\" height=\"24px\" viewBox=\"0 -960 960 960\">\n",
              "    <path d=\"M120-120v-720h720v720H120Zm60-500h600v-160H180v160Zm220 220h160v-160H400v160Zm0 220h160v-160H400v160ZM180-400h160v-160H180v160Zm440 0h160v-160H620v160ZM180-180h160v-160H180v160Zm440 0h160v-160H620v160Z\"/>\n",
              "  </svg>\n",
              "    </button>\n",
              "\n",
              "  <style>\n",
              "    .colab-df-container {\n",
              "      display:flex;\n",
              "      gap: 12px;\n",
              "    }\n",
              "\n",
              "    .colab-df-convert {\n",
              "      background-color: #E8F0FE;\n",
              "      border: none;\n",
              "      border-radius: 50%;\n",
              "      cursor: pointer;\n",
              "      display: none;\n",
              "      fill: #1967D2;\n",
              "      height: 32px;\n",
              "      padding: 0 0 0 0;\n",
              "      width: 32px;\n",
              "    }\n",
              "\n",
              "    .colab-df-convert:hover {\n",
              "      background-color: #E2EBFA;\n",
              "      box-shadow: 0px 1px 2px rgba(60, 64, 67, 0.3), 0px 1px 3px 1px rgba(60, 64, 67, 0.15);\n",
              "      fill: #174EA6;\n",
              "    }\n",
              "\n",
              "    .colab-df-buttons div {\n",
              "      margin-bottom: 4px;\n",
              "    }\n",
              "\n",
              "    [theme=dark] .colab-df-convert {\n",
              "      background-color: #3B4455;\n",
              "      fill: #D2E3FC;\n",
              "    }\n",
              "\n",
              "    [theme=dark] .colab-df-convert:hover {\n",
              "      background-color: #434B5C;\n",
              "      box-shadow: 0px 1px 3px 1px rgba(0, 0, 0, 0.15);\n",
              "      filter: drop-shadow(0px 1px 2px rgba(0, 0, 0, 0.3));\n",
              "      fill: #FFFFFF;\n",
              "    }\n",
              "  </style>\n",
              "\n",
              "    <script>\n",
              "      const buttonEl =\n",
              "        document.querySelector('#df-d610eda2-e1da-4868-b9df-cbb9c4c09d88 button.colab-df-convert');\n",
              "      buttonEl.style.display =\n",
              "        google.colab.kernel.accessAllowed ? 'block' : 'none';\n",
              "\n",
              "      async function convertToInteractive(key) {\n",
              "        const element = document.querySelector('#df-d610eda2-e1da-4868-b9df-cbb9c4c09d88');\n",
              "        const dataTable =\n",
              "          await google.colab.kernel.invokeFunction('convertToInteractive',\n",
              "                                                    [key], {});\n",
              "        if (!dataTable) return;\n",
              "\n",
              "        const docLinkHtml = 'Like what you see? Visit the ' +\n",
              "          '<a target=\"_blank\" href=https://colab.research.google.com/notebooks/data_table.ipynb>data table notebook</a>'\n",
              "          + ' to learn more about interactive tables.';\n",
              "        element.innerHTML = '';\n",
              "        dataTable['output_type'] = 'display_data';\n",
              "        await google.colab.output.renderOutput(dataTable, element);\n",
              "        const docLink = document.createElement('div');\n",
              "        docLink.innerHTML = docLinkHtml;\n",
              "        element.appendChild(docLink);\n",
              "      }\n",
              "    </script>\n",
              "  </div>\n",
              "\n",
              "\n",
              "<div id=\"df-ed0c2f58-d30e-4658-a6e7-310265d2182e\">\n",
              "  <button class=\"colab-df-quickchart\" onclick=\"quickchart('df-ed0c2f58-d30e-4658-a6e7-310265d2182e')\"\n",
              "            title=\"Suggest charts\"\n",
              "            style=\"display:none;\">\n",
              "\n",
              "<svg xmlns=\"http://www.w3.org/2000/svg\" height=\"24px\"viewBox=\"0 0 24 24\"\n",
              "     width=\"24px\">\n",
              "    <g>\n",
              "        <path d=\"M19 3H5c-1.1 0-2 .9-2 2v14c0 1.1.9 2 2 2h14c1.1 0 2-.9 2-2V5c0-1.1-.9-2-2-2zM9 17H7v-7h2v7zm4 0h-2V7h2v10zm4 0h-2v-4h2v4z\"/>\n",
              "    </g>\n",
              "</svg>\n",
              "  </button>\n",
              "\n",
              "<style>\n",
              "  .colab-df-quickchart {\n",
              "      --bg-color: #E8F0FE;\n",
              "      --fill-color: #1967D2;\n",
              "      --hover-bg-color: #E2EBFA;\n",
              "      --hover-fill-color: #174EA6;\n",
              "      --disabled-fill-color: #AAA;\n",
              "      --disabled-bg-color: #DDD;\n",
              "  }\n",
              "\n",
              "  [theme=dark] .colab-df-quickchart {\n",
              "      --bg-color: #3B4455;\n",
              "      --fill-color: #D2E3FC;\n",
              "      --hover-bg-color: #434B5C;\n",
              "      --hover-fill-color: #FFFFFF;\n",
              "      --disabled-bg-color: #3B4455;\n",
              "      --disabled-fill-color: #666;\n",
              "  }\n",
              "\n",
              "  .colab-df-quickchart {\n",
              "    background-color: var(--bg-color);\n",
              "    border: none;\n",
              "    border-radius: 50%;\n",
              "    cursor: pointer;\n",
              "    display: none;\n",
              "    fill: var(--fill-color);\n",
              "    height: 32px;\n",
              "    padding: 0;\n",
              "    width: 32px;\n",
              "  }\n",
              "\n",
              "  .colab-df-quickchart:hover {\n",
              "    background-color: var(--hover-bg-color);\n",
              "    box-shadow: 0 1px 2px rgba(60, 64, 67, 0.3), 0 1px 3px 1px rgba(60, 64, 67, 0.15);\n",
              "    fill: var(--button-hover-fill-color);\n",
              "  }\n",
              "\n",
              "  .colab-df-quickchart-complete:disabled,\n",
              "  .colab-df-quickchart-complete:disabled:hover {\n",
              "    background-color: var(--disabled-bg-color);\n",
              "    fill: var(--disabled-fill-color);\n",
              "    box-shadow: none;\n",
              "  }\n",
              "\n",
              "  .colab-df-spinner {\n",
              "    border: 2px solid var(--fill-color);\n",
              "    border-color: transparent;\n",
              "    border-bottom-color: var(--fill-color);\n",
              "    animation:\n",
              "      spin 1s steps(1) infinite;\n",
              "  }\n",
              "\n",
              "  @keyframes spin {\n",
              "    0% {\n",
              "      border-color: transparent;\n",
              "      border-bottom-color: var(--fill-color);\n",
              "      border-left-color: var(--fill-color);\n",
              "    }\n",
              "    20% {\n",
              "      border-color: transparent;\n",
              "      border-left-color: var(--fill-color);\n",
              "      border-top-color: var(--fill-color);\n",
              "    }\n",
              "    30% {\n",
              "      border-color: transparent;\n",
              "      border-left-color: var(--fill-color);\n",
              "      border-top-color: var(--fill-color);\n",
              "      border-right-color: var(--fill-color);\n",
              "    }\n",
              "    40% {\n",
              "      border-color: transparent;\n",
              "      border-right-color: var(--fill-color);\n",
              "      border-top-color: var(--fill-color);\n",
              "    }\n",
              "    60% {\n",
              "      border-color: transparent;\n",
              "      border-right-color: var(--fill-color);\n",
              "    }\n",
              "    80% {\n",
              "      border-color: transparent;\n",
              "      border-right-color: var(--fill-color);\n",
              "      border-bottom-color: var(--fill-color);\n",
              "    }\n",
              "    90% {\n",
              "      border-color: transparent;\n",
              "      border-bottom-color: var(--fill-color);\n",
              "    }\n",
              "  }\n",
              "</style>\n",
              "\n",
              "  <script>\n",
              "    async function quickchart(key) {\n",
              "      const quickchartButtonEl =\n",
              "        document.querySelector('#' + key + ' button');\n",
              "      quickchartButtonEl.disabled = true;  // To prevent multiple clicks.\n",
              "      quickchartButtonEl.classList.add('colab-df-spinner');\n",
              "      try {\n",
              "        const charts = await google.colab.kernel.invokeFunction(\n",
              "            'suggestCharts', [key], {});\n",
              "      } catch (error) {\n",
              "        console.error('Error during call to suggestCharts:', error);\n",
              "      }\n",
              "      quickchartButtonEl.classList.remove('colab-df-spinner');\n",
              "      quickchartButtonEl.classList.add('colab-df-quickchart-complete');\n",
              "    }\n",
              "    (() => {\n",
              "      let quickchartButtonEl =\n",
              "        document.querySelector('#df-ed0c2f58-d30e-4658-a6e7-310265d2182e button');\n",
              "      quickchartButtonEl.style.display =\n",
              "        google.colab.kernel.accessAllowed ? 'block' : 'none';\n",
              "    })();\n",
              "  </script>\n",
              "</div>\n",
              "\n",
              "    </div>\n",
              "  </div>\n"
            ],
            "application/vnd.google.colaboratory.intrinsic+json": {
              "type": "dataframe",
              "variable_name": "binary_training_no_htr"
            }
          },
          "metadata": {},
          "execution_count": 6
        }
      ],
      "source": [
        "# load in our data\n",
        "binary_testing_no_htr = pd.read_csv(\"Binary_Testing_No_HTR.csv\")\n",
        "binary_testing_no_htr.head()\n",
        "binary_training_no_htr = pd.read_csv(\"Binary_Training_No_HTR.csv\")\n",
        "binary_training_no_htr.head()"
      ]
    },
    {
      "cell_type": "code",
      "execution_count": 5,
      "metadata": {
        "colab": {
          "base_uri": "https://localhost:8080/"
        },
        "id": "tzqGOlrxBpbq",
        "outputId": "669df9b5-05cf-452d-eb5d-97e293e4ae91"
      },
      "outputs": [
        {
          "output_type": "stream",
          "name": "stdout",
          "text": [
            "['FTR', 'HomeMomentum', 'AwayMomentum', 'HomeWP', 'HomeLP', 'HomeDP', 'AwayWP', 'AwayLP', 'AwayDP', 'HomeHVA', 'AwayHVA', 'HHS', 'HAS', 'HHST', 'HAST', 'HHF', 'HAF', 'HHC', 'HAC', 'HHY', 'HAY', 'HHR', 'HAR', 'AHS', 'AAS', 'AHST', 'AAST', 'AHF', 'AAF', 'AHC', 'AAC', 'AHY', 'AAY', 'AHR', 'AAR']\n",
            "624\n"
          ]
        }
      ],
      "source": [
        "print(binary_testing_no_htr.columns.tolist())\n",
        "print(len(binary_testing_no_htr))"
      ]
    },
    {
      "cell_type": "code",
      "execution_count": 7,
      "metadata": {
        "colab": {
          "base_uri": "https://localhost:8080/",
          "height": 236
        },
        "id": "VdevWkhLBpbq",
        "outputId": "625d8725-19b2-4bf4-f56c-7f13aa21a851"
      },
      "outputs": [
        {
          "output_type": "execute_result",
          "data": {
            "text/plain": [
              "  FTR HTR  HomeMomentum  AwayMomentum    HomeWP    HomeLP    HomeDP    AwayWP  \\\n",
              "0   A   D      0.000000      0.000000  0.000000  0.000000  0.000000  0.263158   \n",
              "1   A   H      0.333333      0.000000  0.684211  0.078947  0.236842  0.421053   \n",
              "2   A   A      0.000000      0.000000  0.315789  0.394737  0.289474  0.000000   \n",
              "3   H   H      0.500000      0.166667  0.289474  0.500000  0.210526  0.184211   \n",
              "4   H   H     -0.333333      0.166667  0.526316  0.210526  0.263158  0.500000   \n",
              "\n",
              "     AwayLP    AwayDP  ...  AHST  AAST   AHF   AAF  AHC  AAC  AHY  AAY  AHR  \\\n",
              "0  0.526316  0.210526  ...   0.0   0.0   0.0   0.0  0.0  0.0  0.0  0.0  0.0   \n",
              "1  0.368421  0.210526  ...   3.5   3.0  11.5  11.5  5.0  3.5  2.0  2.5  0.0   \n",
              "2  0.000000  0.000000  ...   5.0   3.0  12.0  11.0  6.0  5.5  1.0  2.0  0.0   \n",
              "3  0.368421  0.447368  ...   3.5   3.0  11.0  11.5  4.5  6.5  1.0  1.0  0.0   \n",
              "4  0.315789  0.184211  ...   4.0   3.5  11.5  11.5  6.5  6.0  1.0  0.0  0.0   \n",
              "\n",
              "   AAR  \n",
              "0  0.0  \n",
              "1  0.0  \n",
              "2  0.0  \n",
              "3  0.0  \n",
              "4  0.0  \n",
              "\n",
              "[5 rows x 36 columns]"
            ],
            "text/html": [
              "\n",
              "  <div id=\"df-d2c6ada5-b46f-4081-878b-fb9f867006af\" class=\"colab-df-container\">\n",
              "    <div>\n",
              "<style scoped>\n",
              "    .dataframe tbody tr th:only-of-type {\n",
              "        vertical-align: middle;\n",
              "    }\n",
              "\n",
              "    .dataframe tbody tr th {\n",
              "        vertical-align: top;\n",
              "    }\n",
              "\n",
              "    .dataframe thead th {\n",
              "        text-align: right;\n",
              "    }\n",
              "</style>\n",
              "<table border=\"1\" class=\"dataframe\">\n",
              "  <thead>\n",
              "    <tr style=\"text-align: right;\">\n",
              "      <th></th>\n",
              "      <th>FTR</th>\n",
              "      <th>HTR</th>\n",
              "      <th>HomeMomentum</th>\n",
              "      <th>AwayMomentum</th>\n",
              "      <th>HomeWP</th>\n",
              "      <th>HomeLP</th>\n",
              "      <th>HomeDP</th>\n",
              "      <th>AwayWP</th>\n",
              "      <th>AwayLP</th>\n",
              "      <th>AwayDP</th>\n",
              "      <th>...</th>\n",
              "      <th>AHST</th>\n",
              "      <th>AAST</th>\n",
              "      <th>AHF</th>\n",
              "      <th>AAF</th>\n",
              "      <th>AHC</th>\n",
              "      <th>AAC</th>\n",
              "      <th>AHY</th>\n",
              "      <th>AAY</th>\n",
              "      <th>AHR</th>\n",
              "      <th>AAR</th>\n",
              "    </tr>\n",
              "  </thead>\n",
              "  <tbody>\n",
              "    <tr>\n",
              "      <th>0</th>\n",
              "      <td>A</td>\n",
              "      <td>D</td>\n",
              "      <td>0.000000</td>\n",
              "      <td>0.000000</td>\n",
              "      <td>0.000000</td>\n",
              "      <td>0.000000</td>\n",
              "      <td>0.000000</td>\n",
              "      <td>0.263158</td>\n",
              "      <td>0.526316</td>\n",
              "      <td>0.210526</td>\n",
              "      <td>...</td>\n",
              "      <td>0.0</td>\n",
              "      <td>0.0</td>\n",
              "      <td>0.0</td>\n",
              "      <td>0.0</td>\n",
              "      <td>0.0</td>\n",
              "      <td>0.0</td>\n",
              "      <td>0.0</td>\n",
              "      <td>0.0</td>\n",
              "      <td>0.0</td>\n",
              "      <td>0.0</td>\n",
              "    </tr>\n",
              "    <tr>\n",
              "      <th>1</th>\n",
              "      <td>A</td>\n",
              "      <td>H</td>\n",
              "      <td>0.333333</td>\n",
              "      <td>0.000000</td>\n",
              "      <td>0.684211</td>\n",
              "      <td>0.078947</td>\n",
              "      <td>0.236842</td>\n",
              "      <td>0.421053</td>\n",
              "      <td>0.368421</td>\n",
              "      <td>0.210526</td>\n",
              "      <td>...</td>\n",
              "      <td>3.5</td>\n",
              "      <td>3.0</td>\n",
              "      <td>11.5</td>\n",
              "      <td>11.5</td>\n",
              "      <td>5.0</td>\n",
              "      <td>3.5</td>\n",
              "      <td>2.0</td>\n",
              "      <td>2.5</td>\n",
              "      <td>0.0</td>\n",
              "      <td>0.0</td>\n",
              "    </tr>\n",
              "    <tr>\n",
              "      <th>2</th>\n",
              "      <td>A</td>\n",
              "      <td>A</td>\n",
              "      <td>0.000000</td>\n",
              "      <td>0.000000</td>\n",
              "      <td>0.315789</td>\n",
              "      <td>0.394737</td>\n",
              "      <td>0.289474</td>\n",
              "      <td>0.000000</td>\n",
              "      <td>0.000000</td>\n",
              "      <td>0.000000</td>\n",
              "      <td>...</td>\n",
              "      <td>5.0</td>\n",
              "      <td>3.0</td>\n",
              "      <td>12.0</td>\n",
              "      <td>11.0</td>\n",
              "      <td>6.0</td>\n",
              "      <td>5.5</td>\n",
              "      <td>1.0</td>\n",
              "      <td>2.0</td>\n",
              "      <td>0.0</td>\n",
              "      <td>0.0</td>\n",
              "    </tr>\n",
              "    <tr>\n",
              "      <th>3</th>\n",
              "      <td>H</td>\n",
              "      <td>H</td>\n",
              "      <td>0.500000</td>\n",
              "      <td>0.166667</td>\n",
              "      <td>0.289474</td>\n",
              "      <td>0.500000</td>\n",
              "      <td>0.210526</td>\n",
              "      <td>0.184211</td>\n",
              "      <td>0.368421</td>\n",
              "      <td>0.447368</td>\n",
              "      <td>...</td>\n",
              "      <td>3.5</td>\n",
              "      <td>3.0</td>\n",
              "      <td>11.0</td>\n",
              "      <td>11.5</td>\n",
              "      <td>4.5</td>\n",
              "      <td>6.5</td>\n",
              "      <td>1.0</td>\n",
              "      <td>1.0</td>\n",
              "      <td>0.0</td>\n",
              "      <td>0.0</td>\n",
              "    </tr>\n",
              "    <tr>\n",
              "      <th>4</th>\n",
              "      <td>H</td>\n",
              "      <td>H</td>\n",
              "      <td>-0.333333</td>\n",
              "      <td>0.166667</td>\n",
              "      <td>0.526316</td>\n",
              "      <td>0.210526</td>\n",
              "      <td>0.263158</td>\n",
              "      <td>0.500000</td>\n",
              "      <td>0.315789</td>\n",
              "      <td>0.184211</td>\n",
              "      <td>...</td>\n",
              "      <td>4.0</td>\n",
              "      <td>3.5</td>\n",
              "      <td>11.5</td>\n",
              "      <td>11.5</td>\n",
              "      <td>6.5</td>\n",
              "      <td>6.0</td>\n",
              "      <td>1.0</td>\n",
              "      <td>0.0</td>\n",
              "      <td>0.0</td>\n",
              "      <td>0.0</td>\n",
              "    </tr>\n",
              "  </tbody>\n",
              "</table>\n",
              "<p>5 rows × 36 columns</p>\n",
              "</div>\n",
              "    <div class=\"colab-df-buttons\">\n",
              "\n",
              "  <div class=\"colab-df-container\">\n",
              "    <button class=\"colab-df-convert\" onclick=\"convertToInteractive('df-d2c6ada5-b46f-4081-878b-fb9f867006af')\"\n",
              "            title=\"Convert this dataframe to an interactive table.\"\n",
              "            style=\"display:none;\">\n",
              "\n",
              "  <svg xmlns=\"http://www.w3.org/2000/svg\" height=\"24px\" viewBox=\"0 -960 960 960\">\n",
              "    <path d=\"M120-120v-720h720v720H120Zm60-500h600v-160H180v160Zm220 220h160v-160H400v160Zm0 220h160v-160H400v160ZM180-400h160v-160H180v160Zm440 0h160v-160H620v160ZM180-180h160v-160H180v160Zm440 0h160v-160H620v160Z\"/>\n",
              "  </svg>\n",
              "    </button>\n",
              "\n",
              "  <style>\n",
              "    .colab-df-container {\n",
              "      display:flex;\n",
              "      gap: 12px;\n",
              "    }\n",
              "\n",
              "    .colab-df-convert {\n",
              "      background-color: #E8F0FE;\n",
              "      border: none;\n",
              "      border-radius: 50%;\n",
              "      cursor: pointer;\n",
              "      display: none;\n",
              "      fill: #1967D2;\n",
              "      height: 32px;\n",
              "      padding: 0 0 0 0;\n",
              "      width: 32px;\n",
              "    }\n",
              "\n",
              "    .colab-df-convert:hover {\n",
              "      background-color: #E2EBFA;\n",
              "      box-shadow: 0px 1px 2px rgba(60, 64, 67, 0.3), 0px 1px 3px 1px rgba(60, 64, 67, 0.15);\n",
              "      fill: #174EA6;\n",
              "    }\n",
              "\n",
              "    .colab-df-buttons div {\n",
              "      margin-bottom: 4px;\n",
              "    }\n",
              "\n",
              "    [theme=dark] .colab-df-convert {\n",
              "      background-color: #3B4455;\n",
              "      fill: #D2E3FC;\n",
              "    }\n",
              "\n",
              "    [theme=dark] .colab-df-convert:hover {\n",
              "      background-color: #434B5C;\n",
              "      box-shadow: 0px 1px 3px 1px rgba(0, 0, 0, 0.15);\n",
              "      filter: drop-shadow(0px 1px 2px rgba(0, 0, 0, 0.3));\n",
              "      fill: #FFFFFF;\n",
              "    }\n",
              "  </style>\n",
              "\n",
              "    <script>\n",
              "      const buttonEl =\n",
              "        document.querySelector('#df-d2c6ada5-b46f-4081-878b-fb9f867006af button.colab-df-convert');\n",
              "      buttonEl.style.display =\n",
              "        google.colab.kernel.accessAllowed ? 'block' : 'none';\n",
              "\n",
              "      async function convertToInteractive(key) {\n",
              "        const element = document.querySelector('#df-d2c6ada5-b46f-4081-878b-fb9f867006af');\n",
              "        const dataTable =\n",
              "          await google.colab.kernel.invokeFunction('convertToInteractive',\n",
              "                                                    [key], {});\n",
              "        if (!dataTable) return;\n",
              "\n",
              "        const docLinkHtml = 'Like what you see? Visit the ' +\n",
              "          '<a target=\"_blank\" href=https://colab.research.google.com/notebooks/data_table.ipynb>data table notebook</a>'\n",
              "          + ' to learn more about interactive tables.';\n",
              "        element.innerHTML = '';\n",
              "        dataTable['output_type'] = 'display_data';\n",
              "        await google.colab.output.renderOutput(dataTable, element);\n",
              "        const docLink = document.createElement('div');\n",
              "        docLink.innerHTML = docLinkHtml;\n",
              "        element.appendChild(docLink);\n",
              "      }\n",
              "    </script>\n",
              "  </div>\n",
              "\n",
              "\n",
              "<div id=\"df-9ca8edbe-0169-44c5-8620-52709343dcc1\">\n",
              "  <button class=\"colab-df-quickchart\" onclick=\"quickchart('df-9ca8edbe-0169-44c5-8620-52709343dcc1')\"\n",
              "            title=\"Suggest charts\"\n",
              "            style=\"display:none;\">\n",
              "\n",
              "<svg xmlns=\"http://www.w3.org/2000/svg\" height=\"24px\"viewBox=\"0 0 24 24\"\n",
              "     width=\"24px\">\n",
              "    <g>\n",
              "        <path d=\"M19 3H5c-1.1 0-2 .9-2 2v14c0 1.1.9 2 2 2h14c1.1 0 2-.9 2-2V5c0-1.1-.9-2-2-2zM9 17H7v-7h2v7zm4 0h-2V7h2v10zm4 0h-2v-4h2v4z\"/>\n",
              "    </g>\n",
              "</svg>\n",
              "  </button>\n",
              "\n",
              "<style>\n",
              "  .colab-df-quickchart {\n",
              "      --bg-color: #E8F0FE;\n",
              "      --fill-color: #1967D2;\n",
              "      --hover-bg-color: #E2EBFA;\n",
              "      --hover-fill-color: #174EA6;\n",
              "      --disabled-fill-color: #AAA;\n",
              "      --disabled-bg-color: #DDD;\n",
              "  }\n",
              "\n",
              "  [theme=dark] .colab-df-quickchart {\n",
              "      --bg-color: #3B4455;\n",
              "      --fill-color: #D2E3FC;\n",
              "      --hover-bg-color: #434B5C;\n",
              "      --hover-fill-color: #FFFFFF;\n",
              "      --disabled-bg-color: #3B4455;\n",
              "      --disabled-fill-color: #666;\n",
              "  }\n",
              "\n",
              "  .colab-df-quickchart {\n",
              "    background-color: var(--bg-color);\n",
              "    border: none;\n",
              "    border-radius: 50%;\n",
              "    cursor: pointer;\n",
              "    display: none;\n",
              "    fill: var(--fill-color);\n",
              "    height: 32px;\n",
              "    padding: 0;\n",
              "    width: 32px;\n",
              "  }\n",
              "\n",
              "  .colab-df-quickchart:hover {\n",
              "    background-color: var(--hover-bg-color);\n",
              "    box-shadow: 0 1px 2px rgba(60, 64, 67, 0.3), 0 1px 3px 1px rgba(60, 64, 67, 0.15);\n",
              "    fill: var(--button-hover-fill-color);\n",
              "  }\n",
              "\n",
              "  .colab-df-quickchart-complete:disabled,\n",
              "  .colab-df-quickchart-complete:disabled:hover {\n",
              "    background-color: var(--disabled-bg-color);\n",
              "    fill: var(--disabled-fill-color);\n",
              "    box-shadow: none;\n",
              "  }\n",
              "\n",
              "  .colab-df-spinner {\n",
              "    border: 2px solid var(--fill-color);\n",
              "    border-color: transparent;\n",
              "    border-bottom-color: var(--fill-color);\n",
              "    animation:\n",
              "      spin 1s steps(1) infinite;\n",
              "  }\n",
              "\n",
              "  @keyframes spin {\n",
              "    0% {\n",
              "      border-color: transparent;\n",
              "      border-bottom-color: var(--fill-color);\n",
              "      border-left-color: var(--fill-color);\n",
              "    }\n",
              "    20% {\n",
              "      border-color: transparent;\n",
              "      border-left-color: var(--fill-color);\n",
              "      border-top-color: var(--fill-color);\n",
              "    }\n",
              "    30% {\n",
              "      border-color: transparent;\n",
              "      border-left-color: var(--fill-color);\n",
              "      border-top-color: var(--fill-color);\n",
              "      border-right-color: var(--fill-color);\n",
              "    }\n",
              "    40% {\n",
              "      border-color: transparent;\n",
              "      border-right-color: var(--fill-color);\n",
              "      border-top-color: var(--fill-color);\n",
              "    }\n",
              "    60% {\n",
              "      border-color: transparent;\n",
              "      border-right-color: var(--fill-color);\n",
              "    }\n",
              "    80% {\n",
              "      border-color: transparent;\n",
              "      border-right-color: var(--fill-color);\n",
              "      border-bottom-color: var(--fill-color);\n",
              "    }\n",
              "    90% {\n",
              "      border-color: transparent;\n",
              "      border-bottom-color: var(--fill-color);\n",
              "    }\n",
              "  }\n",
              "</style>\n",
              "\n",
              "  <script>\n",
              "    async function quickchart(key) {\n",
              "      const quickchartButtonEl =\n",
              "        document.querySelector('#' + key + ' button');\n",
              "      quickchartButtonEl.disabled = true;  // To prevent multiple clicks.\n",
              "      quickchartButtonEl.classList.add('colab-df-spinner');\n",
              "      try {\n",
              "        const charts = await google.colab.kernel.invokeFunction(\n",
              "            'suggestCharts', [key], {});\n",
              "      } catch (error) {\n",
              "        console.error('Error during call to suggestCharts:', error);\n",
              "      }\n",
              "      quickchartButtonEl.classList.remove('colab-df-spinner');\n",
              "      quickchartButtonEl.classList.add('colab-df-quickchart-complete');\n",
              "    }\n",
              "    (() => {\n",
              "      let quickchartButtonEl =\n",
              "        document.querySelector('#df-9ca8edbe-0169-44c5-8620-52709343dcc1 button');\n",
              "      quickchartButtonEl.style.display =\n",
              "        google.colab.kernel.accessAllowed ? 'block' : 'none';\n",
              "    })();\n",
              "  </script>\n",
              "</div>\n",
              "\n",
              "    </div>\n",
              "  </div>\n"
            ],
            "application/vnd.google.colaboratory.intrinsic+json": {
              "type": "dataframe",
              "variable_name": "binary_training_htr"
            }
          },
          "metadata": {},
          "execution_count": 7
        }
      ],
      "source": [
        "# load in our data\n",
        "binary_testing_htr = pd.read_csv(\"Binary_Testing_HTR.csv\")\n",
        "binary_testing_htr.head()\n",
        "binary_training_htr = pd.read_csv(\"Binary_Training_HTR.csv\")\n",
        "binary_training_htr.head()"
      ]
    },
    {
      "cell_type": "code",
      "execution_count": 7,
      "metadata": {
        "colab": {
          "base_uri": "https://localhost:8080/"
        },
        "id": "qhv4jQC0Bpbr",
        "outputId": "86fa196d-a22f-492f-f2ed-701b5fc49204"
      },
      "outputs": [
        {
          "output_type": "stream",
          "name": "stdout",
          "text": [
            "['FTR', 'HTR', 'HomeMomentum', 'AwayMomentum', 'HomeWP', 'HomeLP', 'HomeDP', 'AwayWP', 'AwayLP', 'AwayDP', 'HomeHVA', 'AwayHVA', 'HHS', 'HAS', 'HHST', 'HAST', 'HHF', 'HAF', 'HHC', 'HAC', 'HHY', 'HAY', 'HHR', 'HAR', 'AHS', 'AAS', 'AHST', 'AAST', 'AHF', 'AAF', 'AHC', 'AAC', 'AHY', 'AAY', 'AHR', 'AAR']\n",
            "3040\n"
          ]
        }
      ],
      "source": [
        "print(binary_testing_htr.columns.tolist())\n",
        "print(len(binary_training_htr))"
      ]
    },
    {
      "cell_type": "code",
      "execution_count": 8,
      "metadata": {
        "id": "x1X4KjaVBpbs"
      },
      "outputs": [],
      "source": [
        "from sklearn.calibration import LabelEncoder\n",
        "\n",
        "# one hot encode the output for no htr testing and then get the output\n",
        "binary_testing_htr['FTR'] = binary_testing_htr['FTR'].replace('D', 'A')\n",
        "binary_testing_htr['HTR'] = binary_testing_htr['HTR'].replace('D', 'A')\n",
        "\n",
        "label_encoder = LabelEncoder()\n",
        "\n",
        "binary_testing_htr['FTR'] = label_encoder.fit_transform(binary_testing_htr['FTR'])\n",
        "binary_testing_htr['HTR'] = label_encoder.fit_transform(binary_testing_htr['HTR'])\n",
        "\n",
        "binary_testing_htr_output = binary_testing_htr['FTR']\n",
        "\n",
        "binary_testing_htr = binary_testing_htr.drop(columns=['FTR'])\n",
        "\n",
        "\n",
        "# # then do it for the training set\n",
        "binary_training_htr['FTR'] = binary_training_htr['FTR'].replace('D', 'A')\n",
        "binary_training_htr['HTR'] = binary_training_htr['HTR'].replace('D', 'A')\n",
        "\n",
        "label_encoder = LabelEncoder()\n",
        "\n",
        "binary_training_htr['FTR'] = label_encoder.fit_transform(binary_training_htr['FTR'])\n",
        "binary_training_htr['HTR'] = label_encoder.fit_transform(binary_training_htr['HTR'])\n",
        "\n",
        "binary_training_htr_output = binary_training_htr['FTR']\n",
        "\n",
        "binary_training_htr = binary_training_htr.drop(columns=['FTR'])"
      ]
    },
    {
      "cell_type": "code",
      "execution_count": 9,
      "metadata": {
        "id": "cwZBHt5YBpbs"
      },
      "outputs": [],
      "source": [
        "# then we do the same thing for with htr but we then also need to encode the htr columns\n",
        "\n",
        "\n",
        "# one hot encode the output for no htr testing and then get the output\n",
        "binary_testing_no_htr['FTR'] = binary_testing_no_htr['FTR'].replace('D', 'A')\n",
        "\n",
        "label_encoder = LabelEncoder()\n",
        "binary_testing_no_htr['FTR'] = label_encoder.fit_transform(binary_testing_no_htr['FTR'])\n",
        "\n",
        "binary_testing_no_htr_ouput = binary_testing_no_htr['FTR']\n",
        "\n",
        "binary_testing_no_htr = binary_testing_no_htr.drop(columns=['FTR'])\n",
        "\n",
        "\n",
        "# then do it for the training set\n",
        "binary_training_no_htr['FTR'] = binary_training_no_htr['FTR'].replace('D', 'A')\n",
        "\n",
        "label_encoder = LabelEncoder()\n",
        "binary_training_no_htr['FTR'] = label_encoder.fit_transform(binary_training_no_htr['FTR'])\n",
        "\n",
        "binary_training_no_htr_output = binary_training_no_htr['FTR']\n",
        "\n",
        "binary_training_no_htr = binary_training_no_htr.drop(columns=['FTR'])"
      ]
    },
    {
      "cell_type": "code",
      "source": [
        "from sklearn.preprocessing import StandardScaler\n",
        "from sklearn.svm import SVC\n",
        "from sklearn.ensemble import BaggingClassifier\n",
        "from sklearn.metrics import accuracy_score\n",
        "from sklearn.linear_model import LassoCV\n",
        "from sklearn.ensemble import VotingClassifier\n",
        "from sklearn.linear_model import LogisticRegression\n",
        "from sklearn.ensemble import RandomForestClassifier\n",
        "from sklearn.naive_bayes import GaussianNB\n",
        "from sklearn.neighbors import KNeighborsClassifier\n",
        "from sklearn.feature_selection import SelectKBest, mutual_info_classif\n",
        "from sklearn.feature_selection import f_classif\n",
        "from sklearn.ensemble import RandomForestClassifier, StackingClassifier\n",
        "from sklearn.feature_selection import RFE, SequentialFeatureSelector\n",
        "from sklearn.tree import DecisionTreeClassifier\n",
        "from sklearn.tree import DecisionTreeClassifier\n",
        "from sklearn.metrics import accuracy_score\n",
        "from sklearn.preprocessing import StandardScaler\n",
        "from sklearn.feature_selection import VarianceThreshold\n",
        "from sklearn.ensemble import AdaBoostClassifier\n",
        "\n",
        "import numpy as np\n",
        "import pandas as pd\n",
        "import matplotlib.pyplot as plt\n",
        "import seaborn as sns\n",
        "from sklearn.preprocessing import LabelEncoder\n",
        "from sklearn.model_selection import train_test_split\n",
        "from sklearn.ensemble import RandomForestClassifier, StackingClassifier, VotingClassifier\n",
        "from sklearn.metrics import classification_report, confusion_matrix, accuracy_score, precision_score, recall_score, f1_score\n",
        "from sklearn.preprocessing import MinMaxScaler, StandardScaler\n",
        "from sklearn.ensemble import AdaBoostClassifier\n",
        "from sklearn.tree import DecisionTreeClassifier\n",
        "from sklearn.svm import SVC\n",
        "from sklearn.linear_model import LogisticRegression\n",
        "from sklearn.naive_bayes import GaussianNB\n",
        "from sklearn.neighbors import KNeighborsClassifier\n",
        "\n",
        "from xgboost import XGBClassifier\n",
        "from sklearn.model_selection import GridSearchCV\n",
        "from sklearn.feature_selection import VarianceThreshold\n",
        "from lightgbm import LGBMClassifier"
      ],
      "metadata": {
        "id": "02hlyK2NEQEb"
      },
      "execution_count": 10,
      "outputs": []
    },
    {
      "cell_type": "code",
      "source": [
        "def print_cm(y_test, this_y_pred, method, Encoder=False, class_report = False):\n",
        "  if class_report:\n",
        "    print(classification_report(y_test, this_y_pred))\n",
        "  print(\"Accuracy:\", accuracy_score(y_test, this_y_pred))\n",
        "  print(\"Precision:\", precision_score(y_test, this_y_pred, average=method))\n",
        "  print(\"Recall:\", recall_score(y_test, this_y_pred, average=method))\n",
        "  print(\"F1 Score:\", f1_score(y_test, this_y_pred, average=method))\n",
        "\n",
        "  confusion = confusion_matrix(y_test, this_y_pred)\n",
        "  sns.heatmap(confusion,\n",
        "              annot=True,\n",
        "              fmt='d',\n",
        "              xticklabels = [class_name for class_name in Encoder.classes_ if Encoder],\n",
        "              yticklabels = [class_name for class_name in Encoder.classes_ if Encoder]\n",
        "              )\n",
        "  plt.xlabel('Predicted')\n",
        "  plt.ylabel('True')\n",
        "  plt.title('Confusion Matrix')\n",
        "  plt.show()"
      ],
      "metadata": {
        "id": "XKGWpZlif3-G"
      },
      "execution_count": 11,
      "outputs": []
    },
    {
      "cell_type": "markdown",
      "source": [
        "First we do it with no htr data"
      ],
      "metadata": {
        "id": "psy6A8EatHFI"
      }
    },
    {
      "cell_type": "markdown",
      "source": [
        "Variance threshold with bagging using svm machines"
      ],
      "metadata": {
        "id": "m7IkrImhGb-A"
      }
    },
    {
      "cell_type": "code",
      "execution_count": 12,
      "metadata": {
        "id": "5ruKy0DNBpbt"
      },
      "outputs": [],
      "source": [
        "# let us try covariance feature extraction first on the no htr data set\n",
        "from sklearn.feature_selection import VarianceThreshold\n",
        "\n",
        "\n",
        "variance_threshold = VarianceThreshold(threshold=0.01)\n",
        "variance_train = variance_threshold.fit_transform(binary_training_no_htr)\n",
        "variance_test = variance_threshold.transform(binary_testing_no_htr)"
      ]
    },
    {
      "cell_type": "code",
      "execution_count": 9,
      "metadata": {
        "colab": {
          "base_uri": "https://localhost:8080/"
        },
        "id": "r8D-BFEvBpbu",
        "outputId": "39299e2f-6e8f-4d8f-f32f-0bc7b2b8c301"
      },
      "outputs": [
        {
          "output_type": "stream",
          "name": "stdout",
          "text": [
            "Bagging SVM Accuracy: 0.6667\n"
          ]
        }
      ],
      "source": [
        "from sklearn.preprocessing import StandardScaler\n",
        "from sklearn.svm import SVC\n",
        "from sklearn.ensemble import BaggingClassifier\n",
        "from sklearn.metrics import accuracy_score\n",
        "\n",
        "scaler = StandardScaler()\n",
        "X_train = scaler.fit_transform(variance_train)\n",
        "X_test = scaler.transform(variance_test)\n",
        "\n",
        "svm = SVC(kernel='linear', probability=True)\n",
        "\n",
        "\n",
        "bagging_svm = BaggingClassifier(\n",
        "    estimator=svm,\n",
        "    n_estimators=50,\n",
        "    max_samples=0.8,\n",
        "    max_features=1.0,\n",
        "    bootstrap=True,\n",
        "    n_jobs=-1,\n",
        "    random_state=42\n",
        ")\n",
        "\n",
        "bagging_svm.fit(X_train, binary_training_no_htr_output)\n",
        "\n",
        "y_pred = bagging_svm.predict(X_test)\n",
        "\n",
        "accuracy = accuracy_score(binary_testing_no_htr_ouput, y_pred)\n",
        "print(f\"Bagging SVM Accuracy: {accuracy:.4f}\")"
      ]
    },
    {
      "cell_type": "code",
      "source": [
        "# Define base SVM model\n",
        "svm = SVC(kernel='linear', probability=True)\n",
        "\n",
        "bagging_svm = BaggingClassifier(\n",
        "    estimator=svm,\n",
        "    n_estimators=50,\n",
        "    max_samples=0.8,\n",
        "    max_features=1.0,\n",
        "    bootstrap=True,\n",
        "    n_jobs=-1,\n",
        "    random_state=42\n",
        ")\n",
        "\n",
        "bagging_svm.fit(variance_train, binary_training_no_htr_output)\n",
        "\n",
        "y_pred = bagging_svm.predict(variance_test)\n",
        "\n",
        "accuracy = accuracy_score(binary_testing_no_htr_ouput, y_pred)\n",
        "print(f\"Bagging SVM Accuracy: {accuracy:.4f}\")"
      ],
      "metadata": {
        "colab": {
          "base_uri": "https://localhost:8080/"
        },
        "id": "v07NUgyOOlSz",
        "outputId": "77539965-c7ec-4322-853c-af73bb111082"
      },
      "execution_count": 50,
      "outputs": [
        {
          "output_type": "stream",
          "name": "stdout",
          "text": [
            "Bagging SVM Accuracy: 0.6619\n"
          ]
        }
      ]
    },
    {
      "cell_type": "markdown",
      "source": [
        "L1 regularization with bagging"
      ],
      "metadata": {
        "id": "uI1GB4HjGfRy"
      }
    },
    {
      "cell_type": "code",
      "source": [
        "from sklearn.linear_model import LassoCV\n",
        "# fourth feature selection\n",
        "lasso = LassoCV(cv=5).fit(binary_training_no_htr, binary_training_no_htr_output)\n",
        "mask = lasso.coef_ != 0\n",
        "L1_regularization_train = binary_training_no_htr.iloc[:, mask]\n",
        "L1_regularization_test = binary_testing_no_htr.iloc[:, mask]"
      ],
      "metadata": {
        "id": "D6glo6E-GMm5"
      },
      "execution_count": 12,
      "outputs": []
    },
    {
      "cell_type": "code",
      "source": [
        "# Standardize features (important for SVM)\n",
        "scaler = StandardScaler()\n",
        "X_train = scaler.fit_transform(L1_regularization_train)\n",
        "X_test = scaler.transform(L1_regularization_test)\n",
        "l\n",
        "svm = SVC(kernel='linear', probability=True)\n",
        "\n",
        "bagging_svm = BaggingClassifier(\n",
        "    estimator=svm,\n",
        "    n_estimators=50,\n",
        "    max_samples=0.8,\n",
        "    max_features=1.0,\n",
        "    bootstrap=True,\n",
        "    n_jobs=-1,\n",
        "    random_state=42\n",
        ")\n",
        "\n",
        "bagging_svm.fit(X_train, binary_training_no_htr_output)\n",
        "\n",
        "y_pred = bagging_svm.predict(X_test)\n",
        "\n",
        "accuracy = accuracy_score(binary_testing_no_htr_ouput, y_pred)\n",
        "print(f\"Bagging SVM Accuracy: {accuracy:.4f}\")"
      ],
      "metadata": {
        "colab": {
          "base_uri": "https://localhost:8080/"
        },
        "id": "iD2O6Bexn-Sr",
        "outputId": "ee4c52c3-c21e-4e0b-a995-de3c971d9cd0"
      },
      "execution_count": 13,
      "outputs": [
        {
          "output_type": "stream",
          "name": "stdout",
          "text": [
            "Bagging SVM Accuracy: 0.6587\n"
          ]
        }
      ]
    },
    {
      "cell_type": "markdown",
      "source": [
        "Then we do it all again but this time with htr included"
      ],
      "metadata": {
        "id": "X3POFVaMsogh"
      }
    },
    {
      "cell_type": "markdown",
      "source": [
        "variance threshold with bagging"
      ],
      "metadata": {
        "id": "b7wLsrI_GTW_"
      }
    },
    {
      "cell_type": "code",
      "source": [
        "variance_threshold = VarianceThreshold(threshold=0.01)\n",
        "variance_train = variance_threshold.fit_transform(binary_training_htr)\n",
        "variance_test = variance_threshold.transform(binary_testing_htr)"
      ],
      "metadata": {
        "id": "Mmc5-GXOstf7"
      },
      "execution_count": 13,
      "outputs": []
    },
    {
      "cell_type": "code",
      "source": [
        "# Standardize features (important for SVM)\n",
        "scaler = StandardScaler()\n",
        "X_train = scaler.fit_transform(variance_train)\n",
        "X_test = scaler.transform(variance_test)\n",
        "\n",
        "\n",
        "svm = SVC(kernel='linear', probability=True)\n",
        "\n",
        "bagging_svm = BaggingClassifier(\n",
        "    estimator=svm,\n",
        "    n_estimators=50,\n",
        "    max_samples=0.8,\n",
        "    max_features=1.0,\n",
        "    bootstrap=True,\n",
        "    n_jobs=-1,\n",
        "    random_state=42\n",
        ")\n",
        "\n",
        "bagging_svm.fit(X_train, binary_training_no_htr_output)\n",
        "\n",
        "y_pred = bagging_svm.predict(X_test)\n",
        "\n",
        "accuracy = accuracy_score(binary_testing_no_htr_ouput, y_pred)\n",
        "print(f\"Bagging SVM Accuracy: {accuracy:.4f}\")"
      ],
      "metadata": {
        "colab": {
          "base_uri": "https://localhost:8080/"
        },
        "id": "M161meyRs2fX",
        "outputId": "505019e1-d544-4ec5-95b5-67c9ecfdf4e4"
      },
      "execution_count": 15,
      "outputs": [
        {
          "output_type": "stream",
          "name": "stdout",
          "text": [
            "Bagging SVM Accuracy: 0.7163\n"
          ]
        }
      ]
    },
    {
      "cell_type": "markdown",
      "source": [
        "L1 regularization with bagging"
      ],
      "metadata": {
        "id": "FXBs4l8vGW1W"
      }
    },
    {
      "cell_type": "code",
      "source": [
        "# fourth feature selection\n",
        "lasso = LassoCV(cv=5).fit(binary_training_htr, binary_training_htr_output)\n",
        "mask = lasso.coef_ != 0\n",
        "L1_regularization_train = binary_training_htr.iloc[:, mask]\n",
        "L1_regularization_test = binary_testing_htr.iloc[:, mask]"
      ],
      "metadata": {
        "id": "A7bV5LGzGLKz"
      },
      "execution_count": 14,
      "outputs": []
    },
    {
      "cell_type": "code",
      "source": [
        "# Standardize features (important for SVM)\n",
        "scaler = StandardScaler()\n",
        "X_train = scaler.fit_transform(L1_regularization_train)\n",
        "X_test = scaler.transform(L1_regularization_test)\n",
        "\n",
        "svm = SVC(kernel='linear', probability=True)\n",
        "\n",
        "bagging_svm = BaggingClassifier(\n",
        "    estimator=svm,\n",
        "    n_estimators=50,\n",
        "    max_samples=0.8,\n",
        "    max_features=1.0,\n",
        "    bootstrap=True,\n",
        "    n_jobs=-1,\n",
        "    random_state=42\n",
        ")\n",
        "\n",
        "bagging_svm.fit(X_train, binary_training_no_htr_output)\n",
        "\n",
        "y_pred = bagging_svm.predict(X_test)\n",
        "\n",
        "accuracy = accuracy_score(binary_testing_no_htr_ouput, y_pred)\n",
        "print(f\"Bagging SVM Accuracy: {accuracy:.4f}\")"
      ],
      "metadata": {
        "colab": {
          "base_uri": "https://localhost:8080/"
        },
        "id": "fCAmbgGtGMKS",
        "outputId": "da6e3c84-641a-45c7-aabc-38ee22c18a67"
      },
      "execution_count": 18,
      "outputs": [
        {
          "output_type": "stream",
          "name": "stdout",
          "text": [
            "Bagging SVM Accuracy: 0.7163\n"
          ]
        }
      ]
    },
    {
      "cell_type": "markdown",
      "source": [
        "using variance threshold for now since that seems to be pretty good with ensemble voting using knn, svm, random forest, naive bayes and logistic regression on the no htr first"
      ],
      "metadata": {
        "id": "ltBqiU1xG4I7"
      }
    },
    {
      "cell_type": "code",
      "source": [
        "# first without any feature selection\n",
        "from sklearn.ensemble import VotingClassifier\n",
        "from sklearn.linear_model import LogisticRegression\n",
        "from sklearn.ensemble import RandomForestClassifier\n",
        "from sklearn.naive_bayes import GaussianNB\n",
        "from sklearn.neighbors import KNeighborsClassifier\n",
        "\n",
        "model1 = LogisticRegression()\n",
        "model2 = RandomForestClassifier(n_estimators=100)\n",
        "model3 = SVC(probability=True, kernel='linear')\n",
        "model4 = GaussianNB()\n",
        "model5 = KNeighborsClassifier()\n",
        "\n",
        "ensemble = VotingClassifier(\n",
        "    estimators=[\n",
        "        ('lr', model1),\n",
        "        ('rf', model2),\n",
        "        ('svc', model3),\n",
        "        ('nb', model4),\n",
        "        ('knn', model5)\n",
        "    ],\n",
        "    voting='soft',\n",
        "    n_jobs=-1,\n",
        "    weights=[1, 2, 4, 1, 3]\n",
        ")\n",
        "\n",
        "ensemble.fit(binary_training_no_htr, binary_training_no_htr_output)\n",
        "y_pred = ensemble.predict(binary_testing_no_htr)\n",
        "\n",
        "from sklearn.metrics import accuracy_score\n",
        "print(\"Soft Voting Ensemble Accuracy:\", accuracy_score(binary_testing_no_htr_ouput, y_pred))"
      ],
      "metadata": {
        "colab": {
          "base_uri": "https://localhost:8080/"
        },
        "id": "9HBKt1A4Hbft",
        "outputId": "bc234406-9849-4d4d-9634-04cacff97a46"
      },
      "execution_count": 41,
      "outputs": [
        {
          "output_type": "stream",
          "name": "stdout",
          "text": [
            "Soft Voting Ensemble Accuracy: 0.6730769230769231\n"
          ]
        }
      ]
    },
    {
      "cell_type": "markdown",
      "source": [
        "so lets try it now with variance threshold"
      ],
      "metadata": {
        "id": "SUsZLrKYJxvb"
      }
    },
    {
      "cell_type": "code",
      "source": [
        "variance_threshold = VarianceThreshold(threshold=0.01)\n",
        "variance_train = variance_threshold.fit_transform(binary_training_no_htr)\n",
        "variance_test = variance_threshold.transform(binary_testing_no_htr)"
      ],
      "metadata": {
        "id": "_-c0ngsOJzzE"
      },
      "execution_count": 15,
      "outputs": []
    },
    {
      "cell_type": "code",
      "source": [
        "ensemble_2 = VotingClassifier(\n",
        "    estimators=[\n",
        "        ('lr', model1),\n",
        "        ('rf', model2),\n",
        "        ('svc', model3),\n",
        "        ('nb', model4),\n",
        "        ('knn', model5)\n",
        "    ],\n",
        "    voting='soft',\n",
        "    n_jobs=-1,\n",
        "    weights=[1, 2, 4, 1, 3]\n",
        ")\n",
        "\n",
        "ensemble.fit(variance_train, binary_training_no_htr_output)\n",
        "y_pred = ensemble.predict(variance_test)\n",
        "\n",
        "from sklearn.metrics import accuracy_score\n",
        "print(\"Soft Voting Ensemble Accuracy:\", accuracy_score(binary_testing_no_htr_ouput, y_pred))"
      ],
      "metadata": {
        "colab": {
          "base_uri": "https://localhost:8080/"
        },
        "id": "tY0dOqoLJ3t1",
        "outputId": "ce907fa9-b945-47f6-a3cb-44cbaa3c4eaf"
      },
      "execution_count": 43,
      "outputs": [
        {
          "output_type": "stream",
          "name": "stdout",
          "text": [
            "Soft Voting Ensemble Accuracy: 0.6714743589743589\n"
          ]
        }
      ]
    },
    {
      "cell_type": "markdown",
      "source": [
        "didn't really improve let us try mutual information, so let us run it on svc's first and then see what happens"
      ],
      "metadata": {
        "id": "qEU2JLI6NbqK"
      }
    },
    {
      "cell_type": "code",
      "source": [
        "from sklearn.feature_selection import SelectKBest, mutual_info_classif\n",
        "# third feature selection\n",
        "mutual_info_selector = SelectKBest(score_func=mutual_info_classif, k=7)\n",
        "mutual_information_train = mutual_info_selector.fit_transform(binary_training_no_htr, binary_training_no_htr_output)\n",
        "mutual_information_test = mutual_info_selector.transform(binary_testing_no_htr)"
      ],
      "metadata": {
        "id": "LduzfrEgNgM7"
      },
      "execution_count": 16,
      "outputs": []
    },
    {
      "cell_type": "code",
      "source": [
        "# Standardize features (important for SVM)\n",
        "scaler = StandardScaler()\n",
        "X_train = scaler.fit_transform(mutual_information_train)\n",
        "X_test = scaler.transform(mutual_information_test)\n",
        "\n",
        "svm = SVC(kernel='linear', probability=True)\n",
        "\n",
        "bagging_svm = BaggingClassifier(\n",
        "    estimator=svm,\n",
        "    n_estimators=50,\n",
        "    max_samples=0.8,\n",
        "    max_features=1.0,\n",
        "    bootstrap=True,\n",
        "    n_jobs=-1,\n",
        "    random_state=42\n",
        ")\n",
        "\n",
        "bagging_svm.fit(X_train, binary_training_no_htr_output)\n",
        "\n",
        "y_pred = bagging_svm.predict(X_test)\n",
        "\n",
        "accuracy = accuracy_score(binary_testing_no_htr_ouput, y_pred)\n",
        "print(f\"Bagging SVM Accuracy: {accuracy:.4f}\")"
      ],
      "metadata": {
        "colab": {
          "base_uri": "https://localhost:8080/"
        },
        "id": "JSgMSl5lN55S",
        "outputId": "03e1f775-357f-49af-b09b-0e37170085a5"
      },
      "execution_count": 60,
      "outputs": [
        {
          "output_type": "stream",
          "name": "stdout",
          "text": [
            "Bagging SVM Accuracy: 0.6747\n"
          ]
        }
      ]
    },
    {
      "cell_type": "markdown",
      "source": [
        "then let us try it with anova just to see if we get better, but looking at the data distribution probably not? but who knows"
      ],
      "metadata": {
        "id": "vAvIR_jlQ5H1"
      }
    },
    {
      "cell_type": "code",
      "source": [
        "from sklearn.feature_selection import f_classif\n",
        "univariate_selector = SelectKBest(score_func=f_classif, k=8)\n",
        "anova_train = univariate_selector.fit_transform(binary_training_no_htr, binary_training_no_htr_output)\n",
        "anova_test = univariate_selector.transform(binary_testing_no_htr)"
      ],
      "metadata": {
        "id": "oFMuVTd2Q-hS"
      },
      "execution_count": 17,
      "outputs": []
    },
    {
      "cell_type": "code",
      "source": [
        "# Standardize features (important for SVM)\n",
        "scaler = StandardScaler()\n",
        "X_train = scaler.fit_transform(anova_train)\n",
        "X_test = scaler.transform(anova_test)\n",
        "\n",
        "svm = SVC(kernel='linear', probability=True)\n",
        "\n",
        "bagging_svm = BaggingClassifier(\n",
        "    estimator=svm,\n",
        "    n_estimators=50,\n",
        "    max_samples=0.8,\n",
        "    max_features=1.0,\n",
        "    bootstrap=True,\n",
        "    n_jobs=-1,\n",
        "    random_state=42\n",
        ")\n",
        "\n",
        "bagging_svm.fit(anova_train, binary_training_no_htr_output)\n",
        "\n",
        "y_pred = bagging_svm.predict(anova_test)\n",
        "\n",
        "accuracy = accuracy_score(binary_testing_no_htr_ouput, y_pred)\n",
        "print(f\"Bagging SVM Accuracy: {accuracy:.4f}\")"
      ],
      "metadata": {
        "colab": {
          "base_uri": "https://localhost:8080/"
        },
        "id": "dUYQTzkERMIK",
        "outputId": "b6aa7dd5-7287-4a51-f1ec-fc6cd7b57558"
      },
      "execution_count": 74,
      "outputs": [
        {
          "output_type": "stream",
          "name": "stdout",
          "text": [
            "Bagging SVM Accuracy: 0.6667\n"
          ]
        }
      ]
    },
    {
      "cell_type": "markdown",
      "source": [
        "so anova is worse as expected, let us see if we can use mutual information to improve ensemble training"
      ],
      "metadata": {
        "id": "aKuBr4bhSoPR"
      }
    },
    {
      "cell_type": "code",
      "source": [
        "mutual_info_selector = SelectKBest(score_func=mutual_info_classif, k=7)\n",
        "mutual_information_train = mutual_info_selector.fit_transform(binary_training_no_htr, binary_training_no_htr_output)\n",
        "mutual_information_test = mutual_info_selector.transform(binary_testing_no_htr)"
      ],
      "metadata": {
        "id": "wSaPSEumSuEj"
      },
      "execution_count": 18,
      "outputs": []
    },
    {
      "cell_type": "code",
      "source": [
        "scaler = StandardScaler()\n",
        "X_train = scaler.fit_transform(mutual_information_train)\n",
        "X_test = scaler.transform(mutual_information_test)\n",
        "\n",
        "svm = SVC(kernel='linear', probability=True)\n",
        "\n",
        "bagging_svm = BaggingClassifier(\n",
        "    estimator=svm,\n",
        "    n_estimators=50,\n",
        "    max_samples=0.8,\n",
        "    max_features=1.0,\n",
        "    bootstrap=True,\n",
        "    n_jobs=-1,\n",
        "    random_state=42\n",
        ")\n",
        "\n",
        "model2 = RandomForestClassifier(n_estimators=100)\n",
        "model3 = bagging_svm\n",
        "model4 = GaussianNB()\n",
        "model5 = KNeighborsClassifier()\n",
        "\n",
        "\n",
        "ensemble_3 = VotingClassifier(\n",
        "    estimators=[\n",
        "        ('rf', model2),\n",
        "        ('bagging', model3),\n",
        "        ('nb', model4),\n",
        "        ('knn', model5)\n",
        "    ],\n",
        "    voting='soft',\n",
        "    n_jobs=-1,\n",
        "    weights=[1, 4, 1, 1]\n",
        ")\n",
        "\n",
        "ensemble_3.fit(X_train, binary_training_no_htr_output)\n",
        "y_pred = ensemble_3.predict(X_test)\n",
        "\n",
        "from sklearn.metrics import accuracy_score\n",
        "print(\"Soft Voting Ensemble Accuracy:\", accuracy_score(binary_testing_no_htr_ouput, y_pred))"
      ],
      "metadata": {
        "colab": {
          "base_uri": "https://localhost:8080/"
        },
        "id": "g1CngD3WSy_K",
        "outputId": "2919068b-222b-4435-8dd4-dc5058ea88be"
      },
      "execution_count": 101,
      "outputs": [
        {
          "output_type": "stream",
          "name": "stdout",
          "text": [
            "Soft Voting Ensemble Accuracy: 0.6634615384615384\n"
          ]
        }
      ]
    },
    {
      "cell_type": "code",
      "source": [
        "# trying it with anova cause i have the data right here\n",
        "\n",
        "scaler = StandardScaler()\n",
        "X_train = scaler.fit_transform(anova_train)\n",
        "X_test = scaler.transform(anova_test)\n",
        "\n",
        "svm = SVC(kernel='linear', probability=True)\n",
        "\n",
        "bagging_svm = BaggingClassifier(\n",
        "    estimator=svm,\n",
        "    n_estimators=50,\n",
        "    max_samples=0.8,\n",
        "    max_features=1.0,\n",
        "    bootstrap=True,\n",
        "    n_jobs=-1,\n",
        "    random_state=42\n",
        ")\n",
        "\n",
        "model2 = RandomForestClassifier(n_estimators=100)\n",
        "model3 = bagging_svm\n",
        "model4 = GaussianNB()\n",
        "model5 = KNeighborsClassifier()\n",
        "\n",
        "\n",
        "ensemble_3 = VotingClassifier(\n",
        "    estimators=[\n",
        "        ('rf', model2),\n",
        "        ('bagging', model3),\n",
        "        ('nb', model4),\n",
        "        ('knn', model5)\n",
        "    ],\n",
        "    voting='soft',\n",
        "    n_jobs=-1,\n",
        "    weights=[1, 4, 1, 2]\n",
        ")\n",
        "\n",
        "ensemble_3.fit(X_train, binary_training_no_htr_output)\n",
        "y_pred = ensemble_3.predict(X_test)\n",
        "\n",
        "from sklearn.metrics import accuracy_score\n",
        "print(\"Soft Voting Ensemble Accuracy:\", accuracy_score(binary_testing_no_htr_ouput, y_pred))"
      ],
      "metadata": {
        "colab": {
          "base_uri": "https://localhost:8080/"
        },
        "id": "6wKDHu7kDsmS",
        "outputId": "b9b05b67-ebd6-4df9-afef-047489eea752"
      },
      "execution_count": 30,
      "outputs": [
        {
          "output_type": "stream",
          "name": "stdout",
          "text": [
            "Soft Voting Ensemble Accuracy: 0.6842948717948718\n"
          ]
        }
      ]
    },
    {
      "cell_type": "code",
      "source": [
        "best_model_for_0 = ensemble_3\n",
        "\n",
        "y_pred = best_model_for_0.predict(X_test)\n",
        "\n",
        "print(\"Soft Voting Ensemble Accuracy:\", accuracy_score(binary_testing_no_htr_ouput, y_pred))"
      ],
      "metadata": {
        "colab": {
          "base_uri": "https://localhost:8080/"
        },
        "id": "QX_FDCD3gxXa",
        "outputId": "caaf9581-83e2-4b78-92b3-67cb3ef6fbd6"
      },
      "execution_count": 31,
      "outputs": [
        {
          "output_type": "stream",
          "name": "stdout",
          "text": [
            "Soft Voting Ensemble Accuracy: 0.6842948717948718\n"
          ]
        }
      ]
    },
    {
      "cell_type": "code",
      "source": [
        "print_cm(binary_testing_no_htr_ouput, y_pred, 'macro', Encoder=label_encoder, class_report=True)"
      ],
      "metadata": {
        "colab": {
          "base_uri": "https://localhost:8080/",
          "height": 698
        },
        "id": "aNpm_RxagU73",
        "outputId": "099c683c-ede9-4684-b67b-1f8ae21c961b"
      },
      "execution_count": 32,
      "outputs": [
        {
          "output_type": "stream",
          "name": "stdout",
          "text": [
            "              precision    recall  f1-score   support\n",
            "\n",
            "           0       0.70      0.76      0.73       350\n",
            "           1       0.66      0.59      0.62       274\n",
            "\n",
            "    accuracy                           0.68       624\n",
            "   macro avg       0.68      0.67      0.68       624\n",
            "weighted avg       0.68      0.68      0.68       624\n",
            "\n",
            "Accuracy: 0.6842948717948718\n",
            "Precision: 0.6794949114210328\n",
            "Recall: 0.6737956204379563\n",
            "F1 Score: 0.6750953479705353\n"
          ]
        },
        {
          "output_type": "display_data",
          "data": {
            "text/plain": [
              "<Figure size 640x480 with 2 Axes>"
            ],
            "image/png": "[encoded data removed]"
          },
          "metadata": {}
        }
      ]
    },
    {
      "cell_type": "code",
      "source": [
        "# decision tree\n",
        "\n",
        "scaler = StandardScaler()\n",
        "X_train = scaler.fit_transform(anova_train)\n",
        "X_test = scaler.transform(anova_test)\n",
        "\n",
        "dtree = DecisionTreeClassifier(\n",
        "    criterion='gini',\n",
        "    max_depth=3,\n",
        "    random_state=42\n",
        ")\n",
        "\n",
        "dtree.fit(X_train, binary_training_no_htr_output)\n",
        "\n",
        "y_train_pred = dtree.predict(X_train)\n",
        "y_test_pred = dtree.predict(X_test)"
      ],
      "metadata": {
        "id": "7177q7wpiDdl"
      },
      "execution_count": 33,
      "outputs": []
    },
    {
      "cell_type": "code",
      "source": [
        "print_cm(binary_testing_no_htr_ouput, y_test_pred, 'macro', Encoder=label_encoder, class_report=True)"
      ],
      "metadata": {
        "colab": {
          "base_uri": "https://localhost:8080/",
          "height": 698
        },
        "id": "qIZvby-5iVEZ",
        "outputId": "b9043096-5c0a-4673-9419-b7a8a3580b41"
      },
      "execution_count": 34,
      "outputs": [
        {
          "output_type": "stream",
          "name": "stdout",
          "text": [
            "              precision    recall  f1-score   support\n",
            "\n",
            "           0       0.66      0.77      0.71       350\n",
            "           1       0.63      0.50      0.56       274\n",
            "\n",
            "    accuracy                           0.65       624\n",
            "   macro avg       0.65      0.64      0.64       624\n",
            "weighted avg       0.65      0.65      0.65       624\n",
            "\n",
            "Accuracy: 0.6522435897435898\n",
            "Precision: 0.6471672585827837\n",
            "Recall: 0.6361105318039625\n",
            "F1 Score: 0.6362102548258399\n"
          ]
        },
        {
          "output_type": "display_data",
          "data": {
            "text/plain": [
              "<Figure size 640x480 with 2 Axes>"
            ],
            "image/png": "[encoded data removed]"
          },
          "metadata": {}
        }
      ]
    },
    {
      "cell_type": "code",
      "source": [
        "# guassian naive bayes?\n",
        "gnb = GaussianNB()\n",
        "\n",
        "gnb.fit(X_train, binary_training_no_htr_output)\n",
        "\n",
        "y_pred = gnb.predict(X_test)"
      ],
      "metadata": {
        "id": "9X-o7ZJMiqVk"
      },
      "execution_count": 47,
      "outputs": []
    },
    {
      "cell_type": "code",
      "source": [
        "print_cm(binary_testing_no_htr_ouput, y_pred, 'macro', Encoder=label_encoder, class_report=True)"
      ],
      "metadata": {
        "colab": {
          "base_uri": "https://localhost:8080/",
          "height": 698
        },
        "id": "npc6b2_ri7_8",
        "outputId": "c0023cb3-082d-4189-bbe3-50f85773255c"
      },
      "execution_count": 48,
      "outputs": [
        {
          "output_type": "stream",
          "name": "stdout",
          "text": [
            "              precision    recall  f1-score   support\n",
            "\n",
            "           0       0.69      0.70      0.70       350\n",
            "           1       0.61      0.60      0.61       274\n",
            "\n",
            "    accuracy                           0.66       624\n",
            "   macro avg       0.65      0.65      0.65       624\n",
            "weighted avg       0.66      0.66      0.66       624\n",
            "\n",
            "Accuracy: 0.657051282051282\n",
            "Precision: 0.6516007532956686\n",
            "Recall: 0.6510948905109488\n",
            "F1 Score: 0.6513201871657754\n"
          ]
        },
        {
          "output_type": "display_data",
          "data": {
            "text/plain": [
              "<Figure size 640x480 with 2 Axes>"
            ],
            "image/png": "[encoded data removed]"
          },
          "metadata": {}
        }
      ]
    },
    {
      "cell_type": "code",
      "source": [
        "best_model_preds = best_model_for_0.predict_proba(X_test)[:, 1]\n",
        "gnb_preds = gnb.predict_proba(X_test)[:, 1]\n",
        "\n",
        "\n",
        "\n",
        "final_preds = []\n",
        "for i in range(len(best_model_preds)):\n",
        "    if best_model_preds[i] > gnb_preds[i]:\n",
        "        final_preds.append(best_model_for_0.predict(X_test[i].reshape(1, -1))[0])\n",
        "    else:\n",
        "        final_preds.append(gnb.predict(X_test[i].reshape(1, -1))[0])\n",
        "\n",
        "final_preds = np.array(final_preds)\n",
        "\n",
        "accuracy = accuracy_score(binary_testing_no_htr_ouput, final_preds)\n",
        "print(f\"Combined Model Accuracy: {accuracy:.4f}\")"
      ],
      "metadata": {
        "colab": {
          "base_uri": "https://localhost:8080/"
        },
        "id": "_qQwY5PlliRL",
        "outputId": "b2da7902-a969-4cd1-e8e6-63bcae252654"
      },
      "execution_count": 51,
      "outputs": [
        {
          "output_type": "stream",
          "name": "stdout",
          "text": [
            "Combined Model Accuracy: 0.6667\n"
          ]
        }
      ]
    },
    {
      "cell_type": "code",
      "source": [
        "print_cm(binary_testing_no_htr_ouput, y_pred, 'macro', Encoder=label_encoder, class_report=True)"
      ],
      "metadata": {
        "colab": {
          "base_uri": "https://localhost:8080/",
          "height": 698
        },
        "id": "MYN2wT5ZlxC7",
        "outputId": "79db8bef-679b-4501-ddcc-a936ba1d83e3"
      },
      "execution_count": 52,
      "outputs": [
        {
          "output_type": "stream",
          "name": "stdout",
          "text": [
            "              precision    recall  f1-score   support\n",
            "\n",
            "           0       0.69      0.70      0.70       350\n",
            "           1       0.61      0.60      0.61       274\n",
            "\n",
            "    accuracy                           0.66       624\n",
            "   macro avg       0.65      0.65      0.65       624\n",
            "weighted avg       0.66      0.66      0.66       624\n",
            "\n",
            "Accuracy: 0.657051282051282\n",
            "Precision: 0.6516007532956686\n",
            "Recall: 0.6510948905109488\n",
            "F1 Score: 0.6513201871657754\n"
          ]
        },
        {
          "output_type": "display_data",
          "data": {
            "text/plain": [
              "<Figure size 640x480 with 2 Axes>"
            ],
            "image/png": "[encoded data removed]"
          },
          "metadata": {}
        }
      ]
    },
    {
      "cell_type": "code",
      "source": [
        "# since random forest classifiers didn't work lets try stacking with mutual information and anova since that seems to be the best way forwards\n",
        "\n",
        "scaler = StandardScaler()\n",
        "X_train = scaler.fit_transform(anova_train)\n",
        "X_test = scaler.transform(anova_test)\n",
        "\n",
        "svm = SVC(kernel='linear', probability=True)\n",
        "bagging_svm = BaggingClassifier(\n",
        "    estimator=svm,\n",
        "    n_estimators=50,\n",
        "    max_samples=0.8,\n",
        "    max_features=1.0,\n",
        "    bootstrap=True,\n",
        "    n_jobs=-1,\n",
        "    random_state=42\n",
        ")\n",
        "\n",
        "dt = DecisionTreeClassifier(random_state=42)\n",
        "nb = GaussianNB()\n",
        "knn = KNeighborsClassifier()\n",
        "rf = RandomForestClassifier(random_state=42)\n",
        "\n",
        "stacking_clf = StackingClassifier(\n",
        "    estimators=[\n",
        "        ('bag_svm', bagging_svm),\n",
        "        ('dt', dt),\n",
        "        ('nb', nb),\n",
        "        ('knn', knn),\n",
        "        ('rf', rf)\n",
        "    ],\n",
        "    final_estimator=LogisticRegression(),\n",
        "    cv=5,\n",
        "    n_jobs=-1\n",
        ")\n",
        "\n",
        "stacking_clf.fit(X_train, binary_training_no_htr_output)\n",
        "\n",
        "y_pred = stacking_clf.predict(X_test)\n",
        "print(\"stacking Ensemble Accuracy:\", accuracy_score(binary_testing_no_htr_ouput, y_pred))"
      ],
      "metadata": {
        "colab": {
          "base_uri": "https://localhost:8080/"
        },
        "id": "agFWMiOlVn7j",
        "outputId": "c5cbbbb0-d0ea-4c8f-8a95-96bc4fc6035a"
      },
      "execution_count": 65,
      "outputs": [
        {
          "output_type": "stream",
          "name": "stdout",
          "text": [
            "stacking Ensemble Accuracy: 0.6698717948717948\n"
          ]
        }
      ]
    },
    {
      "cell_type": "code",
      "source": [
        "# let us try it with mutual information\n",
        "scaler = StandardScaler()\n",
        "X_train = scaler.fit_transform(mutual_information_train)\n",
        "X_test = scaler.transform(mutual_information_test)\n",
        "\n",
        "svm = SVC(kernel='linear', probability=True)\n",
        "bagging_svm = BaggingClassifier(\n",
        "    estimator=svm,\n",
        "    n_estimators=50,\n",
        "    max_samples=0.8,\n",
        "    max_features=1.0,\n",
        "    bootstrap=True,\n",
        "    n_jobs=-1,\n",
        "    random_state=42\n",
        ")\n",
        "\n",
        "dt = DecisionTreeClassifier(random_state=42)\n",
        "nb = GaussianNB()\n",
        "knn = KNeighborsClassifier()\n",
        "rf = RandomForestClassifier(random_state=42)\n",
        "\n",
        "stacking_clf = StackingClassifier(\n",
        "    estimators=[\n",
        "        ('bag_svm', bagging_svm),\n",
        "        ('dt', dt),\n",
        "        ('nb', nb),\n",
        "        ('knn', knn),\n",
        "        ('rf', rf)\n",
        "    ],\n",
        "    final_estimator=LogisticRegression(),\n",
        "    cv=5,\n",
        "    n_jobs=-1\n",
        ")\n",
        "\n",
        "stacking_clf.fit(mutual_information_train, binary_training_no_htr_output)\n",
        "\n",
        "y_pred = stacking_clf.predict(mutual_information_test)\n",
        "print(\"stacking Ensemble Accuracy:\", accuracy_score(binary_testing_no_htr_ouput, y_pred))"
      ],
      "metadata": {
        "colab": {
          "base_uri": "https://localhost:8080/"
        },
        "id": "jE40t9X7ZisP",
        "outputId": "010cb10a-e2eb-4618-d020-45552a72f1b3"
      },
      "execution_count": 68,
      "outputs": [
        {
          "output_type": "stream",
          "name": "stdout",
          "text": [
            "stacking Ensemble Accuracy: 0.6474358974358975\n"
          ]
        }
      ]
    },
    {
      "cell_type": "markdown",
      "source": [
        "Lets do some more feature selection on the no htr and try and get over 70%+ first I will try recursive feature elimination to hopefully get good features, and then try it on SVM's with bagging and then hopefully ensemble, if we still don't get 70%+ i'll probably try sequential feature selection, but that is more expensive so hopefully not"
      ],
      "metadata": {
        "id": "NAeEwF7QKN7M"
      }
    },
    {
      "cell_type": "code",
      "source": [
        "# lets do some more feature selection !!! i know i can get to 70%+\n",
        "\n",
        "# let us do random forest classifier with recursive feature elimination\n",
        "rfe_model = RandomForestClassifier()\n",
        "rfe_selector = RFE(rfe_model, n_features_to_select=12)\n",
        "rfe_train = rfe_selector.fit_transform(binary_training_no_htr, binary_training_no_htr_output)\n",
        "rfe_test = rfe_selector.transform(binary_testing_no_htr)"
      ],
      "metadata": {
        "id": "q9iG64yQJy2y"
      },
      "execution_count": 46,
      "outputs": []
    },
    {
      "cell_type": "code",
      "source": [
        "# Standardize features (important for SVM)\n",
        "scaler = StandardScaler()\n",
        "X_train = scaler.fit_transform(rfe_train)\n",
        "X_test = scaler.transform(rfe_test)\n",
        "\n",
        "svm = SVC(kernel='linear', probability=True)\n",
        "\n",
        "bagging_svm = BaggingClassifier(\n",
        "    estimator=svm,\n",
        "    n_estimators=50,\n",
        "    max_samples=0.8,\n",
        "    max_features=1.0,\n",
        "    bootstrap=True,\n",
        "    n_jobs=-1,\n",
        "    random_state=42\n",
        ")\n",
        "\n",
        "bagging_svm.fit(X_train, binary_training_no_htr_output)\n",
        "\n",
        "y_pred = bagging_svm.predict(X_test)\n",
        "\n",
        "accuracy = accuracy_score(binary_testing_no_htr_ouput, y_pred)\n",
        "print(f\"Bagging SVM Accuracy: {accuracy:.4f}\")"
      ],
      "metadata": {
        "colab": {
          "base_uri": "https://localhost:8080/"
        },
        "id": "ff5ucKn9KNTz",
        "outputId": "cbe78c67-74f3-43f5-b87a-26fe90636fc5"
      },
      "execution_count": 47,
      "outputs": [
        {
          "output_type": "stream",
          "name": "stdout",
          "text": [
            "Bagging SVM Accuracy: 0.6571\n"
          ]
        }
      ]
    },
    {
      "cell_type": "code",
      "source": [
        "scaler = StandardScaler()\n",
        "X_train = scaler.fit_transform(rfe_train)\n",
        "X_test = scaler.transform(rfe_test)\n",
        "\n",
        "svm = SVC(kernel='linear', probability=True)\n",
        "\n",
        "bagging_svm = BaggingClassifier(\n",
        "    estimator=svm,\n",
        "    n_estimators=50,\n",
        "    max_samples=0.8,\n",
        "    max_features=1.0,\n",
        "    bootstrap=True,\n",
        "    n_jobs=-1,\n",
        "    random_state=42\n",
        ")\n",
        "\n",
        "model2 = RandomForestClassifier(n_estimators=100)\n",
        "model3 = bagging_svm\n",
        "model4 = GaussianNB()\n",
        "model5 = KNeighborsClassifier()\n",
        "\n",
        "\n",
        "ensemble_3 = VotingClassifier(\n",
        "    estimators=[\n",
        "        ('rf', model2),\n",
        "        ('bagging', model3),\n",
        "        ('nb', model4),\n",
        "        ('knn', model5)\n",
        "    ],\n",
        "    voting='soft',\n",
        "    n_jobs=-1,\n",
        "    weights=[2, 4, 1, 2]\n",
        ")\n",
        "\n",
        "ensemble_3.fit(X_train, binary_training_no_htr_output)\n",
        "y_pred = ensemble_3.predict(X_test)\n",
        "\n",
        "from sklearn.metrics import accuracy_score\n",
        "print(\"Soft Voting Ensemble Accuracy:\", accuracy_score(binary_testing_no_htr_ouput, y_pred))"
      ],
      "metadata": {
        "colab": {
          "base_uri": "https://localhost:8080/"
        },
        "id": "UsheQmLBNYZp",
        "outputId": "c66c2486-06ec-4f71-af2c-1a8726a30fc9"
      },
      "execution_count": 52,
      "outputs": [
        {
          "output_type": "stream",
          "name": "stdout",
          "text": [
            "Soft Voting Ensemble Accuracy: 0.6602564102564102\n"
          ]
        }
      ]
    },
    {
      "cell_type": "markdown",
      "source": [
        "guess we'll try sfs"
      ],
      "metadata": {
        "id": "9yqsoTj-O5iP"
      }
    },
    {
      "cell_type": "code",
      "source": [
        "sfs_model = RandomForestClassifier()\n",
        "sfs_selector = SequentialFeatureSelector(sfs_model, n_features_to_select=12)\n",
        "sfs_train = sfs_selector.fit_transform(binary_training_no_htr, binary_training_no_htr_output)\n",
        "sfs_test = sfs_selector.transform(binary_testing_no_htr)"
      ],
      "metadata": {
        "id": "NSFqc5W-O68H"
      },
      "execution_count": 59,
      "outputs": []
    },
    {
      "cell_type": "code",
      "source": [
        "# Standardize features (important for SVM)\n",
        "scaler = StandardScaler()\n",
        "X_train = scaler.fit_transform(sfs_train)\n",
        "X_test = scaler.transform(sfs_test)\n",
        "\n",
        "svm = SVC(kernel='linear', probability=True)\n",
        "\n",
        "bagging_svm = BaggingClassifier(\n",
        "    estimator=svm,\n",
        "    n_estimators=50,\n",
        "    max_samples=0.8,\n",
        "    max_features=1.0,\n",
        "    bootstrap=True,\n",
        "    n_jobs=-1,\n",
        "    random_state=42\n",
        ")\n",
        "\n",
        "bagging_svm.fit(sfs_train, binary_training_no_htr_output)\n",
        "\n",
        "y_pred = bagging_svm.predict(X_test)\n",
        "\n",
        "accuracy = accuracy_score(binary_testing_no_htr_ouput, y_pred)\n",
        "print(f\"Bagging SVM Accuracy: {accuracy:.4f}\")"
      ],
      "metadata": {
        "colab": {
          "base_uri": "https://localhost:8080/"
        },
        "id": "1vNofWxKPDLh",
        "outputId": "17e6bf3a-69e8-4ede-b1ed-7715a8697475"
      },
      "execution_count": 60,
      "outputs": [
        {
          "output_type": "stream",
          "name": "stdout",
          "text": [
            "Bagging SVM Accuracy: 0.6410\n"
          ]
        }
      ]
    },
    {
      "cell_type": "markdown",
      "source": [
        "The best i could get is 68.2% accuracy without htr, so now let us try and get better than that including htr"
      ],
      "metadata": {
        "id": "Bq3AmMBwbYm_"
      }
    },
    {
      "cell_type": "code",
      "source": [
        "# let us start with trying our best model and see if it works well now as well\n",
        "univariate_selector = SelectKBest(score_func=f_classif, k=8)\n",
        "anova_train = univariate_selector.fit_transform(binary_training_htr, binary_training_htr_output)\n",
        "anova_test = univariate_selector.transform(binary_testing_htr)"
      ],
      "metadata": {
        "id": "BtTqX9qebeZU"
      },
      "execution_count": 46,
      "outputs": []
    },
    {
      "cell_type": "code",
      "source": [
        "# let us try it with a different feature selection model\n",
        "variance_threshold = VarianceThreshold(threshold=0.01)\n",
        "variance_train = variance_threshold.fit_transform(binary_training_htr)\n",
        "variance_test = variance_threshold.transform(binary_testing_htr)"
      ],
      "metadata": {
        "id": "MJ49_4K2cCuE"
      },
      "execution_count": 54,
      "outputs": []
    },
    {
      "cell_type": "code",
      "source": [
        "mutual_info_selector = SelectKBest(score_func=mutual_info_classif, k=7)\n",
        "mutual_information_train = mutual_info_selector.fit_transform(binary_training_htr, binary_training_htr_output)\n",
        "mutual_information_test = mutual_info_selector.transform(binary_testing_htr)"
      ],
      "metadata": {
        "id": "9K7QNPtFcaYV"
      },
      "execution_count": 50,
      "outputs": []
    },
    {
      "cell_type": "code",
      "source": [
        "scaler = StandardScaler()\n",
        "X_train = scaler.fit_transform(mutual_information_train)\n",
        "X_test = scaler.transform(mutual_information_test)\n",
        "\n",
        "svm = SVC(kernel='linear', probability=True)\n",
        "\n",
        "bagging_svm = BaggingClassifier(\n",
        "    estimator=svm,\n",
        "    n_estimators=50,\n",
        "    max_samples=0.8,\n",
        "    max_features=1.0,\n",
        "    bootstrap=True,\n",
        "    n_jobs=-1,\n",
        "    random_state=42\n",
        ")\n",
        "\n",
        "model2 = RandomForestClassifier(n_estimators=100)\n",
        "model3 = bagging_svm\n",
        "model4 = GaussianNB()\n",
        "model5 = KNeighborsClassifier()\n",
        "\n",
        "\n",
        "ensemble_3 = VotingClassifier(\n",
        "    estimators=[\n",
        "        ('rf', model2),\n",
        "        ('bagging', model3),\n",
        "        ('nb', model4),\n",
        "        ('knn', model5)\n",
        "    ],\n",
        "    voting='soft',\n",
        "    n_jobs=-1,\n",
        "    weights=[1, 4, 1, 2]\n",
        ")\n",
        "\n",
        "ensemble_3.fit(anova_train, binary_training_htr_output)\n",
        "y_pred = ensemble_3.predict(anova_test)\n",
        "\n",
        "from sklearn.metrics import accuracy_score\n",
        "print(\"Soft Voting Ensemble Accuracy:\", accuracy_score(binary_testing_htr_output, y_pred))"
      ],
      "metadata": {
        "colab": {
          "base_uri": "https://localhost:8080/"
        },
        "id": "nc_F27Vnbnc7",
        "outputId": "f0097398-513d-4650-fe3a-ff69ba3b81dc"
      },
      "execution_count": 97,
      "outputs": [
        {
          "output_type": "stream",
          "name": "stdout",
          "text": [
            "Soft Voting Ensemble Accuracy: 0.7147435897435898\n"
          ]
        }
      ]
    },
    {
      "cell_type": "code",
      "source": [
        "# forest classifiers?\n",
        "\n",
        "scaler = StandardScaler()\n",
        "X_train_scaled = scaler.fit_transform(anova_train)\n",
        "X_test_scaled = scaler.transform(anova_test)\n",
        "\n",
        "knn = KNeighborsClassifier(n_neighbors=5)\n",
        "\n",
        "knn.fit(X_train_scaled, binary_training_htr_output)\n",
        "\n",
        "y_pred = knn.predict(X_test_scaled)\n",
        "\n",
        "accuracy = accuracy_score(binary_testing_htr_output, y_pred)\n",
        "print(f\"KNN Accuracy: {accuracy:.4f}\")"
      ],
      "metadata": {
        "colab": {
          "base_uri": "https://localhost:8080/"
        },
        "id": "AomC_LiydWHz",
        "outputId": "286386c2-d1c0-4579-a542-a6dc3bdbb249"
      },
      "execution_count": 100,
      "outputs": [
        {
          "output_type": "stream",
          "name": "stdout",
          "text": [
            "KNN Accuracy: 0.7212\n"
          ]
        }
      ]
    },
    {
      "cell_type": "code",
      "source": [
        "# decision tree\n",
        "\n",
        "dtree = DecisionTreeClassifier(\n",
        "    criterion='gini',\n",
        "    max_depth=3,\n",
        "    random_state=42\n",
        ")\n",
        "\n",
        "dtree.fit(binary_training_htr, binary_training_htr_output)\n",
        "\n",
        "y_train_pred = dtree.predict(binary_training_htr)\n",
        "y_test_pred = dtree.predict(binary_testing_htr)\n",
        "\n",
        "train_acc = accuracy_score(binary_training_htr_output, y_train_pred)\n",
        "test_acc = accuracy_score(binary_testing_htr_output, y_test_pred)\n",
        "\n",
        "print(f\"Training Accuracy: {train_acc:.4f}\")\n",
        "print(f\"Testing Accuracy:  {test_acc:.4f}\")"
      ],
      "metadata": {
        "colab": {
          "base_uri": "https://localhost:8080/"
        },
        "id": "H9ChribJKkzi",
        "outputId": "867aa67c-5ed6-4b0a-a7a1-1069b0820bec"
      },
      "execution_count": 45,
      "outputs": [
        {
          "output_type": "stream",
          "name": "stdout",
          "text": [
            "Training Accuracy: 0.7668\n",
            "Testing Accuracy:  0.7340\n"
          ]
        }
      ]
    },
    {
      "cell_type": "code",
      "source": [
        "# decision tree with scaling maybe\n",
        "\n",
        "scaler = StandardScaler()\n",
        "X_train_scaled = scaler.fit_transform(mutual_information_train)\n",
        "X_test_scaled = scaler.transform(mutual_information_test)\n",
        "\n",
        "dtree = DecisionTreeClassifier(\n",
        "    criterion='gini',\n",
        "    max_depth=3,\n",
        "    random_state=42\n",
        ")\n",
        "\n",
        "dtree.fit(X_train_scaled, binary_training_htr_output)\n",
        "\n",
        "y_train_pred = dtree.predict(X_train_scaled)\n",
        "y_test_pred = dtree.predict(X_test_scaled)\n",
        "\n",
        "train_acc = accuracy_score(binary_training_htr_output, y_train_pred)\n",
        "test_acc = accuracy_score(binary_testing_htr_output, y_test_pred)\n",
        "\n",
        "print(f\"Training Accuracy: {train_acc:.4f}\")\n",
        "print(f\"Testing Accuracy:  {test_acc:.4f}\")"
      ],
      "metadata": {
        "colab": {
          "base_uri": "https://localhost:8080/"
        },
        "id": "pmZMrnh_M7Yl",
        "outputId": "9a64a806-1918-42f9-b3bc-d19ca0860652"
      },
      "execution_count": 56,
      "outputs": [
        {
          "output_type": "stream",
          "name": "stdout",
          "text": [
            "Training Accuracy: 0.7668\n",
            "Testing Accuracy:  0.7340\n"
          ]
        }
      ]
    },
    {
      "cell_type": "code",
      "source": [
        "# adaboosting maybe?\n",
        "\n",
        "scaler = StandardScaler()\n",
        "X_train_scaled = scaler.fit_transform(anova_train)\n",
        "X_test_scaled = scaler.transform(anova_test)\n",
        "\n",
        "decision_stump = DecisionTreeClassifier(max_depth=1, random_state=42)\n",
        "\n",
        "adaboost_clf = AdaBoostClassifier(\n",
        "    estimator=decision_stump,\n",
        "    n_estimators=30,\n",
        "    learning_rate=1.0,\n",
        "    random_state=42\n",
        ")\n",
        "\n",
        "adaboost_clf.fit(X_train_scaled, binary_training_htr_output)\n",
        "\n",
        "y_train_pred = adaboost_clf.predict(X_train_scaled)\n",
        "y_test_pred = adaboost_clf.predict(X_test_scaled)\n",
        "\n",
        "train_accuracy = accuracy_score(binary_training_htr_output, y_train_pred)\n",
        "test_accuracy = accuracy_score(binary_testing_htr_output, y_test_pred)\n",
        "\n",
        "print(f\"Training Accuracy: {train_accuracy:.4f}\")\n",
        "print(f\"Test Accuracy: {test_accuracy:.4f}\")"
      ],
      "metadata": {
        "colab": {
          "base_uri": "https://localhost:8080/"
        },
        "id": "FPA8uy4ZNqH9",
        "outputId": "f43d3cb1-ad4a-40e5-a0b3-1a80da2b5117"
      },
      "execution_count": 84,
      "outputs": [
        {
          "output_type": "stream",
          "name": "stdout",
          "text": [
            "Training Accuracy: 0.7628\n",
            "Test Accuracy: 0.7420\n"
          ]
        }
      ]
    },
    {
      "cell_type": "code",
      "source": [
        "# ensemble with svm's bagging and adaboost\n",
        "\n",
        "decision_stump = DecisionTreeClassifier(max_depth=1, random_state=42)\n",
        "\n",
        "adaboost_clf = AdaBoostClassifier(\n",
        "    estimator=decision_stump,\n",
        "    n_estimators=30,\n",
        "    learning_rate=1.0,\n",
        "    random_state=42\n",
        ")\n",
        "\n",
        "dtree = DecisionTreeClassifier(\n",
        "    criterion='gini',\n",
        "    max_depth=3,\n",
        "    random_state=42\n",
        ")\n",
        "\n",
        "knn = KNeighborsClassifier(n_neighbors=5)\n",
        "\n",
        "svm = SVC(kernel='linear', probability=True)\n",
        "\n",
        "bagging_svm = BaggingClassifier(\n",
        "    estimator=svm,\n",
        "    n_estimators=50,\n",
        "    max_samples=0.8,\n",
        "    max_features=1.0,\n",
        "    bootstrap=True,\n",
        "    n_jobs=-1,\n",
        "    random_state=42\n",
        ")\n",
        "\n",
        "scaler = StandardScaler()\n",
        "X_train_scaled = scaler.fit_transform(anova_train)\n",
        "X_test_scaled = scaler.transform(anova_test)\n",
        "\n",
        "final_model = RandomForestClassifier(n_estimators=200, max_depth=3, random_state=42)\n",
        "\n",
        "stacking_clf = StackingClassifier(\n",
        "    estimators=[\n",
        "        ('adaboost', adaboost_clf),\n",
        "        ('dtree', dtree),\n",
        "        ('knn', knn),\n",
        "        ('bagging_svm', bagging_svm)\n",
        "    ],\n",
        "    final_estimator=final_model,\n",
        "    cv=5,\n",
        "    n_jobs=-1,\n",
        "    passthrough=False\n",
        ")\n",
        "\n",
        "stacking_clf.fit(X_train_scaled, binary_training_htr_output)\n",
        "\n",
        "y_train_pred = stacking_clf.predict(X_train_scaled)\n",
        "y_test_pred = stacking_clf.predict(X_test_scaled)\n",
        "\n",
        "train_acc = accuracy_score(binary_training_htr_output, y_train_pred)\n",
        "test_acc = accuracy_score(binary_testing_htr_output, y_test_pred)\n",
        "\n",
        "print(f\"Stacking Classifier Training Accuracy: {train_acc:.4f}\")\n",
        "print(f\"Stacking Classifier Test Accuracy: {test_acc:.4f}\")"
      ],
      "metadata": {
        "colab": {
          "base_uri": "https://localhost:8080/"
        },
        "id": "4Nqk3XxhS_4q",
        "outputId": "f680ce72-c844-4cd3-ace5-7e52e5f2e1b1"
      },
      "execution_count": 93,
      "outputs": [
        {
          "output_type": "stream",
          "name": "stdout",
          "text": [
            "Stacking Classifier Training Accuracy: 0.7678\n",
            "Stacking Classifier Test Accuracy: 0.7244\n"
          ]
        }
      ]
    }
  ],
  "metadata": {
    "kernelspec": {
      "display_name": "env",
      "language": "python",
      "name": "python3"
    },
    "language_info": {
      "codemirror_mode": {
        "name": "ipython",
        "version": 3
      },
      "file_extension": ".py",
      "mimetype": "text/x-python",
      "name": "python",
      "nbconvert_exporter": "python",
      "pygments_lexer": "ipython3",
      "version": "3.12.4"
    },
    "colab": {
      "provenance": []
    }
  },
  "nbformat": 4,
  "nbformat_minor": 0
}