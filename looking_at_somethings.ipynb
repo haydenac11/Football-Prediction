{
 "cells": [
  {
   "cell_type": "code",
   "execution_count": 1,
   "metadata": {},
   "outputs": [
    {
     "name": "stdout",
     "output_type": "stream",
     "text": [
      "        Date     HomeTeam     AwayTeam FTR  HTHG  HTAG HTR        Referee  HS  \\\n",
      "0 2015-08-08  Bournemouth  Aston Villa   A     0     0   D  M Clattenburg  11   \n",
      "1 2015-08-08      Chelsea      Swansea   D     2     1   H       M Oliver  11   \n",
      "2 2015-08-08      Everton      Watford   D     0     1   A        M Jones  10   \n",
      "3 2015-08-08    Leicester   Sunderland   H     3     0   H        L Mason  19   \n",
      "4 2015-08-08   Man United    Tottenham   H     1     0   H         J Moss   9   \n",
      "\n",
      "   AS  HST  AST  HF  AF  HC  AC  HY  AY  HR  AR  \n",
      "0   7    2    3  13  13   6   3   3   4   0   0  \n",
      "1  18    3   10  15  16   4   8   1   3   1   0  \n",
      "2  11    5    5   7  13   8   2   1   2   0   0  \n",
      "3  10    8    5  13  17   6   3   2   4   0   0  \n",
      "4   9    1    4  12  12   1   2   2   3   0   0  \n",
      "        Date    HomeTeam     AwayTeam FTR  HTHG  HTAG HTR     Referee  HS  AS  \\\n",
      "0 2024-08-16  Man United       Fulham   H     0     0   D     R Jones  14  10   \n",
      "1 2024-08-17     Ipswich    Liverpool   A     0     0   D  T Robinson   7  18   \n",
      "2 2024-08-17     Arsenal       Wolves   H     1     0   H   J Gillett  18   9   \n",
      "3 2024-08-17     Everton     Brighton   A     0     1   A    S Hooper   9  10   \n",
      "4 2024-08-17   Newcastle  Southampton   H     1     0   H    C Pawson   3  19   \n",
      "\n",
      "   HST  AST  HF  AF  HC  AC  HY  AY  HR  AR  \n",
      "0    5    2  12  10   7   8   2   3   0   0  \n",
      "1    2    5   9  18   2  10   3   1   0   0  \n",
      "2    6    3  17  14   8   2   2   2   0   0  \n",
      "3    1    5   8   8   1   5   1   1   1   0  \n",
      "4    1    4  15  16   3  12   2   4   1   0  \n"
     ]
    }
   ],
   "source": [
    "import pandas as pd\n",
    "# load in our data\n",
    "cleaned_15_24 = pd.read_csv(\"Premier League 2015-2024.csv\")\n",
    "cleaned_15_24['Date'] = pd.to_datetime(cleaned_15_24['Date'], format='%d/%m/%Y')\n",
    "print(cleaned_15_24.head())\n",
    "\n",
    "cleaned_24_25 = pd.read_csv(\"24-25 Season.csv\")\n",
    "cleaned_24_25['Date'] = pd.to_datetime(cleaned_24_25['Date'], format='%d/%m/%Y')\n",
    "print(cleaned_24_25.head())"
   ]
  },
  {
   "cell_type": "code",
   "execution_count": null,
   "metadata": {},
   "outputs": [
    {
     "name": "stdout",
     "output_type": "stream",
     "text": [
      "Home wins half vs full:  1162   1536\n",
      "away wins half vs full:  884   1091\n",
      "Draws at half vs full time:  1374   793\n",
      "total amount of games played:  3420\n",
      "--------------------------------------\n",
      "Home wins half vs full:  100   107\n",
      "away wins half vs full:  78   97\n",
      "Draws at half vs full time:  93   67\n",
      "total amount of games played:  271\n"
     ]
    }
   ],
   "source": [
    "def find_proportions(data):\n",
    "    total = len(data)\n",
    "    home_wins = (data[\"FTR\"] == 'H').sum()\n",
    "    away_wins = (data[\"FTR\"] == 'A').sum()\n",
    "    draws = (data[\"FTR\"] == 'D').sum()\n",
    "\n",
    "    home_wins_half = (data[\"HTR\"] == 'H').sum()\n",
    "    away_wins_half = (data[\"HTR\"] == 'A').sum()\n",
    "    draws_half = (data[\"HTR\"] == 'D').sum()\n",
    "\n",
    "    print(\"Home wins half vs full: \", home_wins_half, \" \", home_wins)\n",
    "    print(\"away wins half vs full: \", away_wins_half, \" \", away_wins)\n",
    "    print(\"Draws at half vs full time: \", draws_half, \" \", draws)\n",
    "    print(\"total amount of games played: \", total)\n",
    "\n",
    "find_proportions(cleaned_15_24)\n",
    "print(\"--------------------------------------\")\n",
    "find_proportions(cleaned_24_25)"
   ]
  },
  {
   "cell_type": "code",
   "execution_count": 14,
   "metadata": {},
   "outputs": [
    {
     "name": "stdout",
     "output_type": "stream",
     "text": [
      "amount of wins at home if they are winning at half time:  927\n",
      "amount of wins away if they are winning at half:  638\n",
      "amount of draws if there is a draw at half:  478\n",
      "if home is winning at half but do not end up winning the game:  235\n",
      "if away is winning at half but do not end up winning the game:  246\n",
      "if it is a draw at half but someone ends up winning:  896\n",
      "Home wins total:  1536\n",
      "away wins total:  1091\n",
      "Draws at half total:  793\n",
      "total amount of games played:  3420\n",
      "--------------------------------------\n",
      "amount of wins at home if they are winning at half time:  69\n",
      "amount of wins away if they are winning at half:  54\n",
      "amount of draws if there is a draw at half:  33\n",
      "if home is winning at half but do not end up winning the game:  31\n",
      "if away is winning at half but do not end up winning the game:  24\n",
      "if it is a draw at half but someone ends up winning:  60\n",
      "Home wins total:  107\n",
      "away wins total:  97\n",
      "Draws at half total:  67\n",
      "total amount of games played:  271\n"
     ]
    }
   ],
   "source": [
    "def if_blank_at_half(data):\n",
    "    total = len(data)\n",
    "    if_home_win_then_home_wins = ((data[\"FTR\"] == 'H') & (data['HTR'] == 'H')).sum()\n",
    "    if_away_win_then_away_wins = ((data[\"FTR\"] == 'A') & (data['HTR'] == 'A')).sum()\n",
    "    if_draw_then_draws = ((data[\"FTR\"] == 'D') & (data['HTR'] == 'D')).sum()\n",
    "    \n",
    "    print(\"amount of wins at home if they are winning at half time: \", if_home_win_then_home_wins)\n",
    "    print(\"amount of wins away if they are winning at half: \", if_away_win_then_away_wins)\n",
    "    print(\"amount of draws if there is a draw at half: \", if_draw_then_draws)\n",
    "\n",
    "    if_home_win_then_not_win = ((data[\"HTR\"] == 'H') & ((data['FTR'] == 'A') | (data['FTR'] == 'D'))).sum()\n",
    "    if_away_win_then_away_not_win = ((data[\"HTR\"] == 'A') & ((data['FTR'] == 'H') | (data['FTR'] == 'D'))).sum()\n",
    "    if_draw_then_not_draw = ((data[\"HTR\"] == 'D') & ((data['FTR'] == 'A') | (data['FTR'] == 'H'))).sum()\n",
    "\n",
    "    print(\"if home is winning at half but do not end up winning the game: \", if_home_win_then_not_win)\n",
    "    print(\"if away is winning at half but do not end up winning the game: \", if_away_win_then_away_not_win)\n",
    "    print(\"if it is a draw at half but someone ends up winning: \", if_draw_then_not_draw)\n",
    "\n",
    "    home_wins = (data[\"FTR\"] == 'H').sum()\n",
    "    away_wins = (data[\"FTR\"] == 'A').sum()\n",
    "    draws = (data[\"FTR\"] == 'D').sum()\n",
    "\n",
    "    print(\"Home wins total: \", home_wins)\n",
    "    print(\"away wins total: \", away_wins)\n",
    "    print(\"Draws at half total: \", draws)\n",
    "\n",
    "\n",
    "    print(\"total amount of games played: \", total)\n",
    "\n",
    "if_blank_at_half(cleaned_15_24)\n",
    "print(\"--------------------------------------\")\n",
    "if_blank_at_half(cleaned_24_25)"
   ]
  }
 ],
 "metadata": {
  "kernelspec": {
   "display_name": "env",
   "language": "python",
   "name": "python3"
  },
  "language_info": {
   "codemirror_mode": {
    "name": "ipython",
    "version": 3
   },
   "file_extension": ".py",
   "mimetype": "text/x-python",
   "name": "python",
   "nbconvert_exporter": "python",
   "pygments_lexer": "ipython3",
   "version": "3.12.4"
  }
 },
 "nbformat": 4,
 "nbformat_minor": 2
}
